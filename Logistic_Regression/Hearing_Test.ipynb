{
  "nbformat": 4,
  "nbformat_minor": 0,
  "metadata": {
    "colab": {
      "name": "Hearing Test.ipynb",
      "provenance": [],
      "collapsed_sections": []
    },
    "kernelspec": {
      "name": "python3",
      "display_name": "Python 3"
    },
    "language_info": {
      "name": "python"
    }
  },
  "cells": [
    {
      "cell_type": "markdown",
      "metadata": {
        "id": "qeOhTeRmflYj"
      },
      "source": [
        "**DATA ANALYSIS**\n"
      ]
    },
    {
      "cell_type": "code",
      "metadata": {
        "id": "qDkpKSP3L-Ux"
      },
      "source": [
        "import pandas as pd\n",
        "import numpy as np\n",
        "import matplotlib.pyplot as plt\n",
        "import seaborn as sns"
      ],
      "execution_count": 1,
      "outputs": []
    },
    {
      "cell_type": "code",
      "metadata": {
        "id": "UXwoirGXaVN2"
      },
      "source": [
        "df = pd.read_csv('hearing_test.csv')"
      ],
      "execution_count": 2,
      "outputs": []
    },
    {
      "cell_type": "code",
      "metadata": {
        "colab": {
          "base_uri": "https://localhost:8080/"
        },
        "id": "tvBpheJFbt8N",
        "outputId": "02ac02b7-3a86-4f0c-e973-160d42362216"
      },
      "source": [
        "df.info()"
      ],
      "execution_count": 3,
      "outputs": [
        {
          "output_type": "stream",
          "text": [
            "<class 'pandas.core.frame.DataFrame'>\n",
            "RangeIndex: 5000 entries, 0 to 4999\n",
            "Data columns (total 3 columns):\n",
            " #   Column          Non-Null Count  Dtype  \n",
            "---  ------          --------------  -----  \n",
            " 0   age             5000 non-null   float64\n",
            " 1   physical_score  5000 non-null   float64\n",
            " 2   test_result     5000 non-null   int64  \n",
            "dtypes: float64(2), int64(1)\n",
            "memory usage: 117.3 KB\n"
          ],
          "name": "stdout"
        }
      ]
    },
    {
      "cell_type": "code",
      "metadata": {
        "colab": {
          "base_uri": "https://localhost:8080/",
          "height": 203
        },
        "id": "kNXTAexWcGon",
        "outputId": "3297e426-1f35-4051-ca59-3da689cdf146"
      },
      "source": [
        "df.head()"
      ],
      "execution_count": 4,
      "outputs": [
        {
          "output_type": "execute_result",
          "data": {
            "text/html": [
              "<div>\n",
              "<style scoped>\n",
              "    .dataframe tbody tr th:only-of-type {\n",
              "        vertical-align: middle;\n",
              "    }\n",
              "\n",
              "    .dataframe tbody tr th {\n",
              "        vertical-align: top;\n",
              "    }\n",
              "\n",
              "    .dataframe thead th {\n",
              "        text-align: right;\n",
              "    }\n",
              "</style>\n",
              "<table border=\"1\" class=\"dataframe\">\n",
              "  <thead>\n",
              "    <tr style=\"text-align: right;\">\n",
              "      <th></th>\n",
              "      <th>age</th>\n",
              "      <th>physical_score</th>\n",
              "      <th>test_result</th>\n",
              "    </tr>\n",
              "  </thead>\n",
              "  <tbody>\n",
              "    <tr>\n",
              "      <th>0</th>\n",
              "      <td>33.0</td>\n",
              "      <td>40.7</td>\n",
              "      <td>1</td>\n",
              "    </tr>\n",
              "    <tr>\n",
              "      <th>1</th>\n",
              "      <td>50.0</td>\n",
              "      <td>37.2</td>\n",
              "      <td>1</td>\n",
              "    </tr>\n",
              "    <tr>\n",
              "      <th>2</th>\n",
              "      <td>52.0</td>\n",
              "      <td>24.7</td>\n",
              "      <td>0</td>\n",
              "    </tr>\n",
              "    <tr>\n",
              "      <th>3</th>\n",
              "      <td>56.0</td>\n",
              "      <td>31.0</td>\n",
              "      <td>0</td>\n",
              "    </tr>\n",
              "    <tr>\n",
              "      <th>4</th>\n",
              "      <td>35.0</td>\n",
              "      <td>42.9</td>\n",
              "      <td>1</td>\n",
              "    </tr>\n",
              "  </tbody>\n",
              "</table>\n",
              "</div>"
            ],
            "text/plain": [
              "    age  physical_score  test_result\n",
              "0  33.0            40.7            1\n",
              "1  50.0            37.2            1\n",
              "2  52.0            24.7            0\n",
              "3  56.0            31.0            0\n",
              "4  35.0            42.9            1"
            ]
          },
          "metadata": {
            "tags": []
          },
          "execution_count": 4
        }
      ]
    },
    {
      "cell_type": "code",
      "metadata": {
        "colab": {
          "base_uri": "https://localhost:8080/",
          "height": 295
        },
        "id": "Se4vEdvMcIfV",
        "outputId": "f5e87f96-3c67-484d-eea1-62be1781d8b3"
      },
      "source": [
        "df.describe()"
      ],
      "execution_count": 5,
      "outputs": [
        {
          "output_type": "execute_result",
          "data": {
            "text/html": [
              "<div>\n",
              "<style scoped>\n",
              "    .dataframe tbody tr th:only-of-type {\n",
              "        vertical-align: middle;\n",
              "    }\n",
              "\n",
              "    .dataframe tbody tr th {\n",
              "        vertical-align: top;\n",
              "    }\n",
              "\n",
              "    .dataframe thead th {\n",
              "        text-align: right;\n",
              "    }\n",
              "</style>\n",
              "<table border=\"1\" class=\"dataframe\">\n",
              "  <thead>\n",
              "    <tr style=\"text-align: right;\">\n",
              "      <th></th>\n",
              "      <th>age</th>\n",
              "      <th>physical_score</th>\n",
              "      <th>test_result</th>\n",
              "    </tr>\n",
              "  </thead>\n",
              "  <tbody>\n",
              "    <tr>\n",
              "      <th>count</th>\n",
              "      <td>5000.000000</td>\n",
              "      <td>5000.000000</td>\n",
              "      <td>5000.000000</td>\n",
              "    </tr>\n",
              "    <tr>\n",
              "      <th>mean</th>\n",
              "      <td>51.609000</td>\n",
              "      <td>32.760260</td>\n",
              "      <td>0.600000</td>\n",
              "    </tr>\n",
              "    <tr>\n",
              "      <th>std</th>\n",
              "      <td>11.287001</td>\n",
              "      <td>8.169802</td>\n",
              "      <td>0.489947</td>\n",
              "    </tr>\n",
              "    <tr>\n",
              "      <th>min</th>\n",
              "      <td>18.000000</td>\n",
              "      <td>-0.000000</td>\n",
              "      <td>0.000000</td>\n",
              "    </tr>\n",
              "    <tr>\n",
              "      <th>25%</th>\n",
              "      <td>43.000000</td>\n",
              "      <td>26.700000</td>\n",
              "      <td>0.000000</td>\n",
              "    </tr>\n",
              "    <tr>\n",
              "      <th>50%</th>\n",
              "      <td>51.000000</td>\n",
              "      <td>35.300000</td>\n",
              "      <td>1.000000</td>\n",
              "    </tr>\n",
              "    <tr>\n",
              "      <th>75%</th>\n",
              "      <td>60.000000</td>\n",
              "      <td>38.900000</td>\n",
              "      <td>1.000000</td>\n",
              "    </tr>\n",
              "    <tr>\n",
              "      <th>max</th>\n",
              "      <td>90.000000</td>\n",
              "      <td>50.000000</td>\n",
              "      <td>1.000000</td>\n",
              "    </tr>\n",
              "  </tbody>\n",
              "</table>\n",
              "</div>"
            ],
            "text/plain": [
              "               age  physical_score  test_result\n",
              "count  5000.000000     5000.000000  5000.000000\n",
              "mean     51.609000       32.760260     0.600000\n",
              "std      11.287001        8.169802     0.489947\n",
              "min      18.000000       -0.000000     0.000000\n",
              "25%      43.000000       26.700000     0.000000\n",
              "50%      51.000000       35.300000     1.000000\n",
              "75%      60.000000       38.900000     1.000000\n",
              "max      90.000000       50.000000     1.000000"
            ]
          },
          "metadata": {
            "tags": []
          },
          "execution_count": 5
        }
      ]
    },
    {
      "cell_type": "code",
      "metadata": {
        "colab": {
          "base_uri": "https://localhost:8080/"
        },
        "id": "9z3lSBsycLhD",
        "outputId": "51d6d48e-34e9-40ce-b764-6d8b1712de79"
      },
      "source": [
        "df['test_result'].value_counts()"
      ],
      "execution_count": 6,
      "outputs": [
        {
          "output_type": "execute_result",
          "data": {
            "text/plain": [
              "1    3000\n",
              "0    2000\n",
              "Name: test_result, dtype: int64"
            ]
          },
          "metadata": {
            "tags": []
          },
          "execution_count": 6
        }
      ]
    },
    {
      "cell_type": "code",
      "metadata": {
        "colab": {
          "base_uri": "https://localhost:8080/",
          "height": 297
        },
        "id": "4Kz0n3xec72d",
        "outputId": "20fc767a-121d-4d24-d871-37c10aef3776"
      },
      "source": [
        "sns.countplot(x = 'test_result', data = df)"
      ],
      "execution_count": 7,
      "outputs": [
        {
          "output_type": "execute_result",
          "data": {
            "text/plain": [
              "<matplotlib.axes._subplots.AxesSubplot at 0x7f2c5f149c10>"
            ]
          },
          "metadata": {
            "tags": []
          },
          "execution_count": 7
        },
        {
          "output_type": "display_data",
          "data": {
            "image/png": "[encoded data removed]",
            "text/plain": [
              "<Figure size 432x288 with 1 Axes>"
            ]
          },
          "metadata": {
            "tags": [],
            "needs_background": "light"
          }
        }
      ]
    },
    {
      "cell_type": "code",
      "metadata": {
        "colab": {
          "base_uri": "https://localhost:8080/",
          "height": 142
        },
        "id": "qVfeaAzrdBiM",
        "outputId": "592cb6f3-9058-4b0f-f123-2f7038fd59bc"
      },
      "source": [
        "df.corr()"
      ],
      "execution_count": 8,
      "outputs": [
        {
          "output_type": "execute_result",
          "data": {
            "text/html": [
              "<div>\n",
              "<style scoped>\n",
              "    .dataframe tbody tr th:only-of-type {\n",
              "        vertical-align: middle;\n",
              "    }\n",
              "\n",
              "    .dataframe tbody tr th {\n",
              "        vertical-align: top;\n",
              "    }\n",
              "\n",
              "    .dataframe thead th {\n",
              "        text-align: right;\n",
              "    }\n",
              "</style>\n",
              "<table border=\"1\" class=\"dataframe\">\n",
              "  <thead>\n",
              "    <tr style=\"text-align: right;\">\n",
              "      <th></th>\n",
              "      <th>age</th>\n",
              "      <th>physical_score</th>\n",
              "      <th>test_result</th>\n",
              "    </tr>\n",
              "  </thead>\n",
              "  <tbody>\n",
              "    <tr>\n",
              "      <th>age</th>\n",
              "      <td>1.000000</td>\n",
              "      <td>-0.782146</td>\n",
              "      <td>-0.683171</td>\n",
              "    </tr>\n",
              "    <tr>\n",
              "      <th>physical_score</th>\n",
              "      <td>-0.782146</td>\n",
              "      <td>1.000000</td>\n",
              "      <td>0.792716</td>\n",
              "    </tr>\n",
              "    <tr>\n",
              "      <th>test_result</th>\n",
              "      <td>-0.683171</td>\n",
              "      <td>0.792716</td>\n",
              "      <td>1.000000</td>\n",
              "    </tr>\n",
              "  </tbody>\n",
              "</table>\n",
              "</div>"
            ],
            "text/plain": [
              "                     age  physical_score  test_result\n",
              "age             1.000000       -0.782146    -0.683171\n",
              "physical_score -0.782146        1.000000     0.792716\n",
              "test_result    -0.683171        0.792716     1.000000"
            ]
          },
          "metadata": {
            "tags": []
          },
          "execution_count": 8
        }
      ]
    },
    {
      "cell_type": "code",
      "metadata": {
        "colab": {
          "base_uri": "https://localhost:8080/",
          "height": 297
        },
        "id": "3GO8vdfudFgH",
        "outputId": "fd0cb12a-8582-4c0c-c650-51e69a517578"
      },
      "source": [
        "sns.boxplot(x = 'test_result', y = 'age',data = df)"
      ],
      "execution_count": 9,
      "outputs": [
        {
          "output_type": "execute_result",
          "data": {
            "text/plain": [
              "<matplotlib.axes._subplots.AxesSubplot at 0x7f2c5e91c510>"
            ]
          },
          "metadata": {
            "tags": []
          },
          "execution_count": 9
        },
        {
          "output_type": "display_data",
          "data": {
            "image/png": "[encoded data removed]",
            "text/plain": [
              "<Figure size 432x288 with 1 Axes>"
            ]
          },
          "metadata": {
            "tags": [],
            "needs_background": "light"
          }
        }
      ]
    },
    {
      "cell_type": "code",
      "metadata": {
        "colab": {
          "base_uri": "https://localhost:8080/",
          "height": 296
        },
        "id": "z_XTXilndWYg",
        "outputId": "e0c45f1a-04b9-42b1-d9f1-8c6b55b580c1"
      },
      "source": [
        "sns.scatterplot(x = 'age',y = 'physical_score', hue= 'test_result',data = df)"
      ],
      "execution_count": 10,
      "outputs": [
        {
          "output_type": "execute_result",
          "data": {
            "text/plain": [
              "<matplotlib.axes._subplots.AxesSubplot at 0x7f2c5e436710>"
            ]
          },
          "metadata": {
            "tags": []
          },
          "execution_count": 10
        },
        {
          "output_type": "display_data",
          "data": {
            "image/png": "[encoded data removed]",
            "text/plain": [
              "<Figure size 432x288 with 1 Axes>"
            ]
          },
          "metadata": {
            "tags": [],
            "needs_background": "light"
          }
        }
      ]
    },
    {
      "cell_type": "code",
      "metadata": {
        "colab": {
          "base_uri": "https://localhost:8080/",
          "height": 391
        },
        "id": "ynh-8-UZfYPF",
        "outputId": "59d9607e-0682-41e1-f92b-01be5984bef7"
      },
      "source": [
        "sns.pairplot(df,hue = 'test_result')"
      ],
      "execution_count": 11,
      "outputs": [
        {
          "output_type": "execute_result",
          "data": {
            "text/plain": [
              "<seaborn.axisgrid.PairGrid at 0x7f2c5d8a7a10>"
            ]
          },
          "metadata": {
            "tags": []
          },
          "execution_count": 11
        },
        {
          "output_type": "display_data",
          "data": {
            "image/png": "[encoded data removed]",
            "text/plain": [
              "<Figure size 420.5x360 with 6 Axes>"
            ]
          },
          "metadata": {
            "tags": [],
            "needs_background": "light"
          }
        }
      ]
    },
    {
      "cell_type": "code",
      "metadata": {
        "colab": {
          "base_uri": "https://localhost:8080/",
          "height": 287
        },
        "id": "jNntTQU5gV07",
        "outputId": "83676a8f-ff93-405e-9f75-29b74ecc7f40"
      },
      "source": [
        "sns.heatmap(df.corr(),annot = True)"
      ],
      "execution_count": 12,
      "outputs": [
        {
          "output_type": "execute_result",
          "data": {
            "text/plain": [
              "<matplotlib.axes._subplots.AxesSubplot at 0x7f2c5d82e350>"
            ]
          },
          "metadata": {
            "tags": []
          },
          "execution_count": 12
        },
        {
          "output_type": "display_data",
          "data": {
            "image/png": "[encoded data removed]",
            "text/plain": [
              "<Figure size 432x288 with 2 Axes>"
            ]
          },
          "metadata": {
            "tags": [],
            "needs_background": "light"
          }
        }
      ]
    },
    {
      "cell_type": "code",
      "metadata": {
        "colab": {
          "base_uri": "https://localhost:8080/",
          "height": 265
        },
        "id": "IvGj8jZ4hR8n",
        "outputId": "fd45c29f-7632-43ab-a947-5489afd35b88"
      },
      "source": [
        "from mpl_toolkits.mplot3d import Axes3D\n",
        "fig = plt.figure()\n",
        "ax = fig.add_subplot(111, projection = '3d')\n",
        "ax.scatter(df['age'], df['physical_score'], df['test_result'], c = df['test_result'])"
      ],
      "execution_count": 13,
      "outputs": [
        {
          "output_type": "execute_result",
          "data": {
            "text/plain": [
              "<mpl_toolkits.mplot3d.art3d.Path3DCollection at 0x7f2c5157bbd0>"
            ]
          },
          "metadata": {
            "tags": []
          },
          "execution_count": 13
        },
        {
          "output_type": "display_data",
          "data": {
            "image/png": "[encoded data removed]",
            "text/plain": [
              "<Figure size 432x288 with 1 Axes>"
            ]
          },
          "metadata": {
            "tags": [],
            "needs_background": "light"
          }
        }
      ]
    },
    {
      "cell_type": "markdown",
      "metadata": {
        "id": "TL0UVQZ9eTqd"
      },
      "source": [
        "**Final Analysis**\n",
        "\n",
        "It is clear from the above analyis that as the age of the person increases, his hearing ability slowly decreases which can visualised by the graph here."
      ]
    },
    {
      "cell_type": "markdown",
      "metadata": {
        "id": "r6v8hK_egoyU"
      },
      "source": [
        "**Data Preperation and Model Selection**"
      ]
    },
    {
      "cell_type": "code",
      "metadata": {
        "colab": {
          "base_uri": "https://localhost:8080/",
          "height": 203
        },
        "id": "UOaUTAeogn7S",
        "outputId": "29239070-c41b-4a13-b089-b0b5eadfb02a"
      },
      "source": [
        " df.head()"
      ],
      "execution_count": 14,
      "outputs": [
        {
          "output_type": "execute_result",
          "data": {
            "text/html": [
              "<div>\n",
              "<style scoped>\n",
              "    .dataframe tbody tr th:only-of-type {\n",
              "        vertical-align: middle;\n",
              "    }\n",
              "\n",
              "    .dataframe tbody tr th {\n",
              "        vertical-align: top;\n",
              "    }\n",
              "\n",
              "    .dataframe thead th {\n",
              "        text-align: right;\n",
              "    }\n",
              "</style>\n",
              "<table border=\"1\" class=\"dataframe\">\n",
              "  <thead>\n",
              "    <tr style=\"text-align: right;\">\n",
              "      <th></th>\n",
              "      <th>age</th>\n",
              "      <th>physical_score</th>\n",
              "      <th>test_result</th>\n",
              "    </tr>\n",
              "  </thead>\n",
              "  <tbody>\n",
              "    <tr>\n",
              "      <th>0</th>\n",
              "      <td>33.0</td>\n",
              "      <td>40.7</td>\n",
              "      <td>1</td>\n",
              "    </tr>\n",
              "    <tr>\n",
              "      <th>1</th>\n",
              "      <td>50.0</td>\n",
              "      <td>37.2</td>\n",
              "      <td>1</td>\n",
              "    </tr>\n",
              "    <tr>\n",
              "      <th>2</th>\n",
              "      <td>52.0</td>\n",
              "      <td>24.7</td>\n",
              "      <td>0</td>\n",
              "    </tr>\n",
              "    <tr>\n",
              "      <th>3</th>\n",
              "      <td>56.0</td>\n",
              "      <td>31.0</td>\n",
              "      <td>0</td>\n",
              "    </tr>\n",
              "    <tr>\n",
              "      <th>4</th>\n",
              "      <td>35.0</td>\n",
              "      <td>42.9</td>\n",
              "      <td>1</td>\n",
              "    </tr>\n",
              "  </tbody>\n",
              "</table>\n",
              "</div>"
            ],
            "text/plain": [
              "    age  physical_score  test_result\n",
              "0  33.0            40.7            1\n",
              "1  50.0            37.2            1\n",
              "2  52.0            24.7            0\n",
              "3  56.0            31.0            0\n",
              "4  35.0            42.9            1"
            ]
          },
          "metadata": {
            "tags": []
          },
          "execution_count": 14
        }
      ]
    },
    {
      "cell_type": "code",
      "metadata": {
        "id": "OstgF1DEihrN"
      },
      "source": [
        "X = df.drop('test_result', axis = 1)"
      ],
      "execution_count": 15,
      "outputs": []
    },
    {
      "cell_type": "code",
      "metadata": {
        "id": "f35ScUJ1i6dF"
      },
      "source": [
        "y = df['test_result']"
      ],
      "execution_count": 16,
      "outputs": []
    },
    {
      "cell_type": "code",
      "metadata": {
        "id": "8jKQn1xKi8Pv"
      },
      "source": [
        "from sklearn.model_selection import train_test_split"
      ],
      "execution_count": 17,
      "outputs": []
    },
    {
      "cell_type": "code",
      "metadata": {
        "id": "8kTAUA77jE30"
      },
      "source": [
        "X_train, X_test, y_train, y_test = train_test_split(X, y, test_size=0.1, random_state=101)"
      ],
      "execution_count": 18,
      "outputs": []
    },
    {
      "cell_type": "code",
      "metadata": {
        "id": "xTbUAUbWjOmj"
      },
      "source": [
        "from sklearn.preprocessing import StandardScaler"
      ],
      "execution_count": 19,
      "outputs": []
    },
    {
      "cell_type": "code",
      "metadata": {
        "id": "cVGXBCrCjcdv"
      },
      "source": [
        "scaler = StandardScaler()"
      ],
      "execution_count": 20,
      "outputs": []
    },
    {
      "cell_type": "code",
      "metadata": {
        "id": "oAu0O0EmjjNd"
      },
      "source": [
        "X_train = scaler.fit_transform(X_train)"
      ],
      "execution_count": 21,
      "outputs": []
    },
    {
      "cell_type": "code",
      "metadata": {
        "id": "PyoH2wy7jog4"
      },
      "source": [
        "X_test = scaler.transform(X_test)"
      ],
      "execution_count": 22,
      "outputs": []
    },
    {
      "cell_type": "code",
      "metadata": {
        "id": "E9U720OKjtHp"
      },
      "source": [
        "from sklearn.linear_model import LogisticRegression"
      ],
      "execution_count": 23,
      "outputs": []
    },
    {
      "cell_type": "code",
      "metadata": {
        "id": "h3SOIAqCjzr3"
      },
      "source": [
        "model_1 = LogisticRegression()"
      ],
      "execution_count": 24,
      "outputs": []
    },
    {
      "cell_type": "code",
      "metadata": {
        "colab": {
          "base_uri": "https://localhost:8080/"
        },
        "id": "QDPTLD9rkLYa",
        "outputId": "971ac7e1-9cad-4137-f78c-32ad87ecf855"
      },
      "source": [
        "model_1.fit(X_train, y_train)"
      ],
      "execution_count": 25,
      "outputs": [
        {
          "output_type": "execute_result",
          "data": {
            "text/plain": [
              "LogisticRegression(C=1.0, class_weight=None, dual=False, fit_intercept=True,\n",
              "                   intercept_scaling=1, l1_ratio=None, max_iter=100,\n",
              "                   multi_class='auto', n_jobs=None, penalty='l2',\n",
              "                   random_state=None, solver='lbfgs', tol=0.0001, verbose=0,\n",
              "                   warm_start=False)"
            ]
          },
          "metadata": {
            "tags": []
          },
          "execution_count": 25
        }
      ]
    },
    {
      "cell_type": "code",
      "metadata": {
        "colab": {
          "base_uri": "https://localhost:8080/"
        },
        "id": "swiViQo1kQwB",
        "outputId": "8e8e615c-5d74-4193-a0ee-ba35d3a92902"
      },
      "source": [
        "model_1.coef_"
      ],
      "execution_count": 26,
      "outputs": [
        {
          "output_type": "execute_result",
          "data": {
            "text/plain": [
              "array([[-0.94953524,  3.45991194]])"
            ]
          },
          "metadata": {
            "tags": []
          },
          "execution_count": 26
        }
      ]
    },
    {
      "cell_type": "code",
      "metadata": {
        "id": "Q9OQKnmLkWDb"
      },
      "source": [
        "y_pred = model_1.predict(X_test)"
      ],
      "execution_count": 27,
      "outputs": []
    },
    {
      "cell_type": "code",
      "metadata": {
        "colab": {
          "base_uri": "https://localhost:8080/"
        },
        "id": "r5_piKcXkggx",
        "outputId": "52ed7228-e33b-42ce-d9e8-1ad1fd55e0e4"
      },
      "source": [
        "y_pred"
      ],
      "execution_count": 28,
      "outputs": [
        {
          "output_type": "execute_result",
          "data": {
            "text/plain": [
              "array([1, 1, 0, 1, 0, 0, 1, 1, 0, 1, 1, 1, 1, 0, 1, 1, 0, 1, 1, 0, 0, 1,\n",
              "       0, 1, 1, 0, 1, 1, 0, 1, 1, 1, 1, 1, 1, 0, 1, 1, 0, 1, 1, 1, 1, 0,\n",
              "       0, 1, 1, 1, 1, 1, 1, 0, 0, 0, 1, 0, 1, 1, 1, 1, 1, 0, 1, 0, 1, 1,\n",
              "       0, 1, 1, 1, 1, 1, 1, 0, 1, 1, 1, 0, 0, 1, 1, 1, 1, 1, 0, 0, 1, 0,\n",
              "       0, 1, 1, 1, 0, 1, 0, 0, 0, 1, 1, 1, 1, 0, 0, 0, 1, 0, 1, 0, 0, 1,\n",
              "       1, 0, 0, 1, 0, 0, 0, 1, 1, 0, 1, 0, 0, 1, 1, 0, 1, 0, 1, 0, 1, 1,\n",
              "       1, 1, 0, 1, 1, 0, 0, 0, 0, 1, 0, 1, 1, 1, 0, 0, 0, 0, 1, 1, 0, 1,\n",
              "       1, 1, 0, 1, 0, 1, 1, 0, 1, 0, 1, 0, 1, 1, 0, 0, 1, 1, 0, 1, 1, 1,\n",
              "       1, 1, 0, 1, 0, 0, 1, 1, 1, 0, 1, 1, 0, 1, 1, 0, 0, 0, 1, 1, 1, 1,\n",
              "       0, 1, 1, 0, 1, 0, 1, 1, 1, 0, 1, 0, 1, 1, 0, 1, 0, 1, 1, 0, 0, 0,\n",
              "       1, 1, 0, 1, 1, 0, 0, 0, 1, 0, 0, 1, 0, 0, 1, 1, 1, 1, 1, 0, 1, 1,\n",
              "       1, 0, 0, 1, 0, 1, 1, 1, 0, 1, 1, 0, 1, 0, 1, 1, 1, 1, 1, 0, 0, 1,\n",
              "       1, 0, 1, 1, 0, 0, 1, 0, 1, 1, 1, 1, 0, 1, 1, 1, 1, 1, 1, 1, 0, 1,\n",
              "       1, 0, 0, 0, 0, 0, 1, 1, 1, 0, 1, 0, 1, 1, 1, 1, 0, 1, 0, 0, 1, 1,\n",
              "       1, 1, 1, 1, 0, 1, 1, 1, 1, 1, 0, 0, 0, 1, 0, 1, 1, 1, 0, 1, 1, 1,\n",
              "       0, 0, 0, 1, 0, 1, 1, 1, 1, 1, 0, 0, 1, 1, 1, 1, 1, 0, 1, 1, 0, 0,\n",
              "       1, 1, 1, 0, 1, 1, 0, 1, 0, 1, 0, 1, 1, 1, 1, 0, 1, 1, 1, 0, 0, 1,\n",
              "       1, 0, 1, 1, 1, 0, 1, 1, 1, 1, 0, 1, 1, 1, 1, 0, 1, 1, 1, 1, 1, 1,\n",
              "       0, 0, 1, 1, 1, 0, 0, 0, 1, 1, 0, 1, 0, 0, 1, 1, 0, 1, 1, 1, 1, 1,\n",
              "       0, 1, 1, 1, 0, 1, 1, 0, 0, 1, 0, 0, 0, 0, 1, 1, 1, 1, 1, 1, 0, 0,\n",
              "       1, 0, 1, 1, 1, 1, 1, 0, 1, 0, 1, 0, 0, 1, 1, 1, 0, 0, 1, 1, 0, 1,\n",
              "       1, 1, 1, 1, 1, 1, 0, 1, 0, 1, 1, 1, 1, 1, 1, 0, 1, 0, 1, 1, 0, 0,\n",
              "       1, 0, 1, 1, 0, 1, 0, 0, 1, 1, 1, 1, 1, 0, 0, 0])"
            ]
          },
          "metadata": {
            "tags": []
          },
          "execution_count": 28
        }
      ]
    },
    {
      "cell_type": "code",
      "metadata": {
        "id": "Ny9s-beNmXfh"
      },
      "source": [
        "y_pred1= model_1.predict_proba(X_test)"
      ],
      "execution_count": 29,
      "outputs": []
    },
    {
      "cell_type": "code",
      "metadata": {
        "colab": {
          "base_uri": "https://localhost:8080/"
        },
        "id": "ZDQ9tvn3mbNb",
        "outputId": "61c8a03a-0303-422e-a9ba-081b99208a3e"
      },
      "source": [
        "y_pred1"
      ],
      "execution_count": 30,
      "outputs": [
        {
          "output_type": "execute_result",
          "data": {
            "text/plain": [
              "array([[2.38434328e-02, 9.76156567e-01],\n",
              "       [2.69240761e-02, 9.73075924e-01],\n",
              "       [9.89194168e-01, 1.08058325e-02],\n",
              "       [1.90768955e-03, 9.98092310e-01],\n",
              "       [9.75012619e-01, 2.49873806e-02],\n",
              "       [9.89652504e-01, 1.03474957e-02],\n",
              "       [7.40226674e-02, 9.25977333e-01],\n",
              "       [1.70943342e-02, 9.82905666e-01],\n",
              "       [9.97066033e-01, 2.93396692e-03],\n",
              "       [3.30521615e-02, 9.66947839e-01],\n",
              "       [8.31035903e-02, 9.16896410e-01],\n",
              "       [9.92865306e-03, 9.90071347e-01],\n",
              "       [7.08965218e-03, 9.92910348e-01],\n",
              "       [9.34236379e-01, 6.57636209e-02],\n",
              "       [1.16594927e-04, 9.99883405e-01],\n",
              "       [6.58904151e-02, 9.34109585e-01],\n",
              "       [9.89126706e-01, 1.08732938e-02],\n",
              "       [2.80051357e-03, 9.97199486e-01],\n",
              "       [5.58920624e-04, 9.99441079e-01],\n",
              "       [9.96523291e-01, 3.47670946e-03],\n",
              "       [8.81757060e-01, 1.18242940e-01],\n",
              "       [1.31030473e-01, 8.68969527e-01],\n",
              "       [5.45646751e-01, 4.54353249e-01],\n",
              "       [3.44064171e-02, 9.65593583e-01],\n",
              "       [3.98386430e-01, 6.01613570e-01],\n",
              "       [5.35437626e-01, 4.64562374e-01],\n",
              "       [3.89992054e-02, 9.61000795e-01],\n",
              "       [1.92947037e-02, 9.80705296e-01],\n",
              "       [9.12948170e-01, 8.70518303e-02],\n",
              "       [2.96787891e-04, 9.99703212e-01],\n",
              "       [4.58669888e-02, 9.54133011e-01],\n",
              "       [2.17209875e-03, 9.97827901e-01],\n",
              "       [1.77753726e-02, 9.82224627e-01],\n",
              "       [6.24150798e-03, 9.93758492e-01],\n",
              "       [4.40443721e-02, 9.55955628e-01],\n",
              "       [9.69351517e-01, 3.06484833e-02],\n",
              "       [6.57522444e-02, 9.34247756e-01],\n",
              "       [2.80712850e-02, 9.71928715e-01],\n",
              "       [9.88216425e-01, 1.17835749e-02],\n",
              "       [4.58080211e-02, 9.54191979e-01],\n",
              "       [6.24708551e-03, 9.93752914e-01],\n",
              "       [3.89217026e-01, 6.10782974e-01],\n",
              "       [3.68916971e-01, 6.31083029e-01],\n",
              "       [5.77657072e-01, 4.22342928e-01],\n",
              "       [9.99689730e-01, 3.10270210e-04],\n",
              "       [6.31385917e-02, 9.36861408e-01],\n",
              "       [6.58351145e-02, 9.34164886e-01],\n",
              "       [1.63736814e-02, 9.83626319e-01],\n",
              "       [5.60582137e-02, 9.43941786e-01],\n",
              "       [1.35624393e-01, 8.64375607e-01],\n",
              "       [1.80906316e-01, 8.19093684e-01],\n",
              "       [6.18665447e-01, 3.81334553e-01],\n",
              "       [5.89720471e-01, 4.10279529e-01],\n",
              "       [8.73012100e-01, 1.26987900e-01],\n",
              "       [4.62974157e-03, 9.95370258e-01],\n",
              "       [7.98118309e-01, 2.01881691e-01],\n",
              "       [3.73094351e-02, 9.62690565e-01],\n",
              "       [4.28310202e-03, 9.95716898e-01],\n",
              "       [1.91025841e-03, 9.98089742e-01],\n",
              "       [1.94393517e-01, 8.05606483e-01],\n",
              "       [3.02976809e-01, 6.97023191e-01],\n",
              "       [8.11179160e-01, 1.88820840e-01],\n",
              "       [7.66989976e-02, 9.23301002e-01],\n",
              "       [9.97999524e-01, 2.00047597e-03],\n",
              "       [2.26812376e-03, 9.97731876e-01],\n",
              "       [5.83970402e-02, 9.41602960e-01],\n",
              "       [9.96400556e-01, 3.59944447e-03],\n",
              "       [3.44512376e-02, 9.65548762e-01],\n",
              "       [1.30877036e-01, 8.69122964e-01],\n",
              "       [4.40443721e-02, 9.55955628e-01],\n",
              "       [5.05150750e-03, 9.94948493e-01],\n",
              "       [2.92148778e-02, 9.70785122e-01],\n",
              "       [3.30809000e-02, 9.66919100e-01],\n",
              "       [9.86583741e-01, 1.34162586e-02],\n",
              "       [1.07654969e-02, 9.89234503e-01],\n",
              "       [1.57176506e-02, 9.84282349e-01],\n",
              "       [1.68474104e-01, 8.31525896e-01],\n",
              "       [9.96382782e-01, 3.61721817e-03],\n",
              "       [9.65392767e-01, 3.46072328e-02],\n",
              "       [1.64026590e-02, 9.83597341e-01],\n",
              "       [1.36210935e-03, 9.98637891e-01],\n",
              "       [1.21883276e-02, 9.87811672e-01],\n",
              "       [1.17522686e-01, 8.82477314e-01],\n",
              "       [4.73410477e-01, 5.26589523e-01],\n",
              "       [9.85470136e-01, 1.45298643e-02],\n",
              "       [9.87191203e-01, 1.28087967e-02],\n",
              "       [1.75024379e-01, 8.24975621e-01],\n",
              "       [8.24494120e-01, 1.75505880e-01],\n",
              "       [9.91148707e-01, 8.85129287e-03],\n",
              "       [3.92348277e-03, 9.96076517e-01],\n",
              "       [3.79490149e-01, 6.20509851e-01],\n",
              "       [2.91769389e-03, 9.97082306e-01],\n",
              "       [9.99965861e-01, 3.41387033e-05],\n",
              "       [8.55830979e-04, 9.99144169e-01],\n",
              "       [8.47674108e-01, 1.52325892e-01],\n",
              "       [5.87544000e-01, 4.12456000e-01],\n",
              "       [9.60858860e-01, 3.91411398e-02],\n",
              "       [3.61493171e-03, 9.96385068e-01],\n",
              "       [8.98805096e-02, 9.10119490e-01],\n",
              "       [1.09041894e-01, 8.90958106e-01],\n",
              "       [3.05204476e-03, 9.96947955e-01],\n",
              "       [8.94064679e-01, 1.05935321e-01],\n",
              "       [9.97522039e-01, 2.47796116e-03],\n",
              "       [9.74880892e-01, 2.51191075e-02],\n",
              "       [1.87556689e-01, 8.12443311e-01],\n",
              "       [9.55796177e-01, 4.42038234e-02],\n",
              "       [3.73578910e-02, 9.62642109e-01],\n",
              "       [9.99647123e-01, 3.52876685e-04],\n",
              "       [9.95338230e-01, 4.66177048e-03],\n",
              "       [2.01235552e-02, 9.79876445e-01],\n",
              "       [1.37965852e-02, 9.86203415e-01],\n",
              "       [9.99893212e-01, 1.06787605e-04],\n",
              "       [9.76026390e-01, 2.39736101e-02],\n",
              "       [3.60330651e-01, 6.39669349e-01],\n",
              "       [9.47906266e-01, 5.20937344e-02],\n",
              "       [8.41332362e-01, 1.58667638e-01],\n",
              "       [9.98742212e-01, 1.25778815e-03],\n",
              "       [4.51412104e-01, 5.48587896e-01],\n",
              "       [1.51202826e-01, 8.48797174e-01],\n",
              "       [9.86625318e-01, 1.33746821e-02],\n",
              "       [1.50674796e-02, 9.84932520e-01],\n",
              "       [9.99887626e-01, 1.12373898e-04],\n",
              "       [9.98312205e-01, 1.68779513e-03],\n",
              "       [2.86083953e-01, 7.13916047e-01],\n",
              "       [1.70415563e-02, 9.82958444e-01],\n",
              "       [7.46763431e-01, 2.53236569e-01],\n",
              "       [2.27015871e-03, 9.97729841e-01],\n",
              "       [9.96683708e-01, 3.31629163e-03],\n",
              "       [1.51607018e-01, 8.48392982e-01],\n",
              "       [7.70165018e-01, 2.29834982e-01],\n",
              "       [1.10484619e-03, 9.98895154e-01],\n",
              "       [1.76054154e-03, 9.98239458e-01],\n",
              "       [4.57883813e-02, 9.54211619e-01],\n",
              "       [3.03261610e-01, 6.96738390e-01],\n",
              "       [9.19763138e-01, 8.02368616e-02],\n",
              "       [2.29007733e-01, 7.70992267e-01],\n",
              "       [1.61600076e-03, 9.98383999e-01],\n",
              "       [6.07957466e-01, 3.92042534e-01],\n",
              "       [7.76659879e-01, 2.23340121e-01],\n",
              "       [9.92275147e-01, 7.72485268e-03],\n",
              "       [9.99676714e-01, 3.23286453e-04],\n",
              "       [4.58276690e-02, 9.54172331e-01],\n",
              "       [7.54125008e-01, 2.45874992e-01],\n",
              "       [1.17292094e-02, 9.88270791e-01],\n",
              "       [1.36272081e-03, 9.98637279e-01],\n",
              "       [1.87488216e-01, 8.12511784e-01],\n",
              "       [9.93729401e-01, 6.27059905e-03],\n",
              "       [9.38879189e-01, 6.11208108e-02],\n",
              "       [9.99912895e-01, 8.71053253e-05],\n",
              "       [5.03991755e-01, 4.96008245e-01],\n",
              "       [4.72066236e-01, 5.27933764e-01],\n",
              "       [1.21805470e-01, 8.78194530e-01],\n",
              "       [9.76939330e-01, 2.30606703e-02],\n",
              "       [3.09377673e-04, 9.99690622e-01],\n",
              "       [1.75154200e-01, 8.24845800e-01],\n",
              "       [4.58276690e-02, 9.54172331e-01],\n",
              "       [5.35996531e-01, 4.64003469e-01],\n",
              "       [5.16646179e-02, 9.48335382e-01],\n",
              "       [9.99485769e-01, 5.14231028e-04],\n",
              "       [5.38993026e-02, 9.46100697e-01],\n",
              "       [2.80345237e-02, 9.71965476e-01],\n",
              "       [9.94729589e-01, 5.27041098e-03],\n",
              "       [8.72829908e-03, 9.91271701e-01],\n",
              "       [8.03528074e-01, 1.96471926e-01],\n",
              "       [4.40699870e-01, 5.59300130e-01],\n",
              "       [9.78804794e-01, 2.11952062e-02],\n",
              "       [1.41168696e-01, 8.58831304e-01],\n",
              "       [7.07700890e-03, 9.92922991e-01],\n",
              "       [5.67486919e-01, 4.32513081e-01],\n",
              "       [9.98171126e-01, 1.82887405e-03],\n",
              "       [1.78067860e-02, 9.82193214e-01],\n",
              "       [4.22545805e-02, 9.57745419e-01],\n",
              "       [9.77080653e-01, 2.29193469e-02],\n",
              "       [4.38555348e-02, 9.56144465e-01],\n",
              "       [1.50275146e-02, 9.84972485e-01],\n",
              "       [6.34850665e-02, 9.36514933e-01],\n",
              "       [2.47306474e-03, 9.97526935e-01],\n",
              "       [3.04699141e-02, 9.69530086e-01],\n",
              "       [9.55510483e-01, 4.44895171e-02],\n",
              "       [4.94164462e-01, 5.05835538e-01],\n",
              "       [6.48329969e-01, 3.51670031e-01],\n",
              "       [9.91964337e-01, 8.03566260e-03],\n",
              "       [1.07463693e-02, 9.89253631e-01],\n",
              "       [1.12171879e-02, 9.88782812e-01],\n",
              "       [2.35884617e-03, 9.97641154e-01],\n",
              "       [9.83543512e-01, 1.64564884e-02],\n",
              "       [3.77112243e-03, 9.96228878e-01],\n",
              "       [1.57246049e-02, 9.84275395e-01],\n",
              "       [5.98549265e-01, 4.01450735e-01],\n",
              "       [1.38701564e-02, 9.86129844e-01],\n",
              "       [1.94182462e-01, 8.05817538e-01],\n",
              "       [9.99897605e-01, 1.02395133e-04],\n",
              "       [7.98045887e-01, 2.01954113e-01],\n",
              "       [6.77776043e-01, 3.22223957e-01],\n",
              "       [1.57446875e-01, 8.42553125e-01],\n",
              "       [3.30529956e-03, 9.96694700e-01],\n",
              "       [1.01408343e-03, 9.98985917e-01],\n",
              "       [2.16820601e-03, 9.97831794e-01],\n",
              "       [6.38382621e-01, 3.61617379e-01],\n",
              "       [9.09935194e-03, 9.90900648e-01],\n",
              "       [1.46338809e-01, 8.53661191e-01],\n",
              "       [9.86096536e-01, 1.39034638e-02],\n",
              "       [2.20797623e-04, 9.99779202e-01],\n",
              "       [9.99389822e-01, 6.10178074e-04],\n",
              "       [1.21469354e-01, 8.78530646e-01],\n",
              "       [1.87488216e-01, 8.12511784e-01],\n",
              "       [2.69594217e-02, 9.73040578e-01],\n",
              "       [9.99677004e-01, 3.22996097e-04],\n",
              "       [8.00575462e-02, 9.19942454e-01],\n",
              "       [9.91238931e-01, 8.76106937e-03],\n",
              "       [6.10339228e-04, 9.99389661e-01],\n",
              "       [2.10242182e-02, 9.78975782e-01],\n",
              "       [8.47325602e-01, 1.52674398e-01],\n",
              "       [4.09365143e-01, 5.90634857e-01],\n",
              "       [5.56261410e-01, 4.43738590e-01],\n",
              "       [3.99571875e-01, 6.00428125e-01],\n",
              "       [1.21517322e-01, 8.78482678e-01],\n",
              "       [9.53670338e-01, 4.63296618e-02],\n",
              "       [8.77789554e-01, 1.22210446e-01],\n",
              "       [9.99305437e-01, 6.94563056e-04],\n",
              "       [1.57385225e-02, 9.84261477e-01],\n",
              "       [1.12621385e-02, 9.88737861e-01],\n",
              "       [9.90423126e-01, 9.57687351e-03],\n",
              "       [1.63038602e-01, 8.36961398e-01],\n",
              "       [1.07750734e-02, 9.89224927e-01],\n",
              "       [9.81407299e-01, 1.85927006e-02],\n",
              "       [7.61993640e-01, 2.38006360e-01],\n",
              "       [9.88195473e-01, 1.18045266e-02],\n",
              "       [2.93554114e-02, 9.70644589e-01],\n",
              "       [9.96952858e-01, 3.04714233e-03],\n",
              "       [9.88237340e-01, 1.17626599e-02],\n",
              "       [2.38120725e-02, 9.76187927e-01],\n",
              "       [7.84166052e-01, 2.15833948e-01],\n",
              "       [9.06035486e-01, 9.39645139e-02],\n",
              "       [1.38173500e-04, 9.99861826e-01],\n",
              "       [1.94323146e-01, 8.05676854e-01],\n",
              "       [5.36181414e-04, 9.99463819e-01],\n",
              "       [2.79978092e-02, 9.72002191e-01],\n",
              "       [7.13729033e-02, 9.28627097e-01],\n",
              "       [9.41369934e-01, 5.86300658e-02],\n",
              "       [5.98094199e-03, 9.94019058e-01],\n",
              "       [6.85235323e-02, 9.31476468e-01],\n",
              "       [1.32894815e-02, 9.86710519e-01],\n",
              "       [5.25310785e-01, 4.74689215e-01],\n",
              "       [9.98562600e-01, 1.43740038e-03],\n",
              "       [3.03356578e-01, 6.96643422e-01],\n",
              "       [9.97304237e-01, 2.69576306e-03],\n",
              "       [1.27158654e-02, 9.87284135e-01],\n",
              "       [3.45588848e-03, 9.96544112e-01],\n",
              "       [1.44822442e-02, 9.85517756e-01],\n",
              "       [9.99969836e-01, 3.01643745e-05],\n",
              "       [5.16646179e-02, 9.48335382e-01],\n",
              "       [2.37494726e-02, 9.76250527e-01],\n",
              "       [9.50091356e-01, 4.99086439e-02],\n",
              "       [4.64426155e-03, 9.95355738e-01],\n",
              "       [9.96386020e-01, 3.61398010e-03],\n",
              "       [2.57773444e-03, 9.97422266e-01],\n",
              "       [2.68354277e-01, 7.31645723e-01],\n",
              "       [1.75089280e-01, 8.24910720e-01],\n",
              "       [2.38016280e-02, 9.76198372e-01],\n",
              "       [5.27651203e-03, 9.94723488e-01],\n",
              "       [8.41452313e-01, 1.58547687e-01],\n",
              "       [9.99360796e-01, 6.39203607e-04],\n",
              "       [1.51722664e-01, 8.48277336e-01],\n",
              "       [1.44566094e-02, 9.85543391e-01],\n",
              "       [9.96801121e-01, 3.19887864e-03],\n",
              "       [2.38225215e-02, 9.76177479e-01],\n",
              "       [3.31325168e-01, 6.68674832e-01],\n",
              "       [9.90837983e-01, 9.16201735e-03],\n",
              "       [9.94452902e-01, 5.54709840e-03],\n",
              "       [3.43616528e-02, 9.65638347e-01],\n",
              "       [9.90038548e-01, 9.96145154e-03],\n",
              "       [8.63255322e-02, 9.13674468e-01],\n",
              "       [1.17240011e-02, 9.88275999e-01],\n",
              "       [6.56143432e-02, 9.34385657e-01],\n",
              "       [6.30323394e-02, 9.36967661e-01],\n",
              "       [9.28435866e-01, 7.15641339e-02],\n",
              "       [1.84911882e-02, 9.81508812e-01],\n",
              "       [5.74401008e-03, 9.94255990e-01],\n",
              "       [2.28348383e-02, 9.77165162e-01],\n",
              "       [1.17396329e-02, 9.88260367e-01],\n",
              "       [2.92021344e-02, 9.70797866e-01],\n",
              "       [5.60819997e-02, 9.43918000e-01],\n",
              "       [1.22262619e-02, 9.87773738e-01],\n",
              "       [9.97305445e-01, 2.69455507e-03],\n",
              "       [3.79913551e-01, 6.20086449e-01],\n",
              "       [2.37807525e-02, 9.76219248e-01],\n",
              "       [9.93977738e-01, 6.02226205e-03],\n",
              "       [9.99564880e-01, 4.35120206e-04],\n",
              "       [9.99770413e-01, 2.29587471e-04],\n",
              "       [9.47928453e-01, 5.20715467e-02],\n",
              "       [7.21026823e-01, 2.78973177e-01],\n",
              "       [8.02702642e-03, 9.91972974e-01],\n",
              "       [1.36333254e-03, 9.98636667e-01],\n",
              "       [1.63038602e-01, 8.36961398e-01],\n",
              "       [5.67155967e-01, 4.32844033e-01],\n",
              "       [2.68441479e-03, 9.97315585e-01],\n",
              "       [9.95501052e-01, 4.49894823e-03],\n",
              "       [6.50753770e-03, 9.93492462e-01],\n",
              "       [4.26970634e-03, 9.95730294e-01],\n",
              "       [1.41059757e-01, 8.58940243e-01],\n",
              "       [1.21469354e-01, 8.78530646e-01],\n",
              "       [5.04553485e-01, 4.95446515e-01],\n",
              "       [1.40842088e-01, 8.59157912e-01],\n",
              "       [9.25748684e-01, 7.42513163e-02],\n",
              "       [9.99674528e-01, 3.25472460e-04],\n",
              "       [3.12017112e-01, 6.87982888e-01],\n",
              "       [2.56735591e-03, 9.97432644e-01],\n",
              "       [9.50293373e-03, 9.90497066e-01],\n",
              "       [1.17240011e-02, 9.88275999e-01],\n",
              "       [2.18871864e-02, 9.78112814e-01],\n",
              "       [1.93620498e-01, 8.06379502e-01],\n",
              "       [9.99544792e-01, 4.55208348e-04],\n",
              "       [5.26237785e-03, 9.94737622e-01],\n",
              "       [2.77582080e-01, 7.22417920e-01],\n",
              "       [1.12122044e-02, 9.88787796e-01],\n",
              "       [1.21565306e-01, 8.78434694e-01],\n",
              "       [2.01324190e-02, 9.79867581e-01],\n",
              "       [6.84653443e-01, 3.15346557e-01],\n",
              "       [9.99912777e-01, 8.72228341e-05],\n",
              "       [9.99480662e-01, 5.19337882e-04],\n",
              "       [9.36431525e-02, 9.06356847e-01],\n",
              "       [9.97994133e-01, 2.00586670e-03],\n",
              "       [3.59398893e-01, 6.40601107e-01],\n",
              "       [3.80231222e-01, 6.19768778e-01],\n",
              "       [8.97335652e-02, 9.10266435e-01],\n",
              "       [7.22200490e-01, 2.77799510e-01],\n",
              "       [1.63447540e-02, 9.83655246e-01],\n",
              "       [2.67240981e-03, 9.97327590e-01],\n",
              "       [1.51722664e-01, 8.48277336e-01],\n",
              "       [9.45815534e-01, 5.41844663e-02],\n",
              "       [9.66479117e-01, 3.35208832e-02],\n",
              "       [9.93180522e-01, 6.81947820e-03],\n",
              "       [7.39303069e-02, 9.26069693e-01],\n",
              "       [9.97919485e-01, 2.08051509e-03],\n",
              "       [5.59869128e-02, 9.44013087e-01],\n",
              "       [4.09256485e-01, 5.90743515e-01],\n",
              "       [2.57886109e-02, 9.74211389e-01],\n",
              "       [1.80706619e-01, 8.19293381e-01],\n",
              "       [6.30323394e-02, 9.36967661e-01],\n",
              "       [9.99909117e-01, 9.08827972e-05],\n",
              "       [9.99066547e-01, 9.33453396e-04],\n",
              "       [2.28348383e-02, 9.77165162e-01],\n",
              "       [2.52352689e-01, 7.47647311e-01],\n",
              "       [8.01272498e-03, 9.91987275e-01],\n",
              "       [1.27045862e-02, 9.87295414e-01],\n",
              "       [3.89318877e-02, 9.61068112e-01],\n",
              "       [9.93444602e-01, 6.55539798e-03],\n",
              "       [4.85121496e-03, 9.95148785e-01],\n",
              "       [4.41011744e-02, 9.55898826e-01],\n",
              "       [6.76400399e-01, 3.23599601e-01],\n",
              "       [9.82857180e-01, 1.71428200e-02],\n",
              "       [9.28682621e-04, 9.99071317e-01],\n",
              "       [3.44661903e-02, 9.65533810e-01],\n",
              "       [1.17344200e-02, 9.88265580e-01],\n",
              "       [9.99981048e-01, 1.89517921e-05],\n",
              "       [2.56620532e-03, 9.97433795e-01],\n",
              "       [4.30593428e-01, 5.69406572e-01],\n",
              "       [9.99892972e-01, 1.07027810e-04],\n",
              "       [7.40843001e-02, 9.25915700e-01],\n",
              "       [9.99169928e-01, 8.30071811e-04],\n",
              "       [3.44362912e-02, 9.65563709e-01],\n",
              "       [8.77209840e-01, 1.22790160e-01],\n",
              "       [2.94646574e-01, 7.05353426e-01],\n",
              "       [6.34794303e-04, 9.99365206e-01],\n",
              "       [5.51148322e-03, 9.94488517e-01],\n",
              "       [3.76268976e-03, 9.96237310e-01],\n",
              "       [7.13235218e-01, 2.86764782e-01],\n",
              "       [5.39910467e-02, 9.46008953e-01],\n",
              "       [8.70499951e-03, 9.91295000e-01],\n",
              "       [2.86543118e-01, 7.13456882e-01],\n",
              "       [9.84216775e-01, 1.57832245e-02],\n",
              "       [9.96812565e-01, 3.18743484e-03],\n",
              "       [2.76951670e-01, 7.23048330e-01],\n",
              "       [6.83516200e-02, 9.31648380e-01],\n",
              "       [9.85444373e-01, 1.45556272e-02],\n",
              "       [1.50608115e-02, 9.84939188e-01],\n",
              "       [1.38640107e-02, 9.86135989e-01],\n",
              "       [2.44426913e-01, 7.55573087e-01],\n",
              "       [9.99905176e-01, 9.48240701e-05],\n",
              "       [4.93265771e-01, 5.06734229e-01],\n",
              "       [9.72407644e-04, 9.99027592e-01],\n",
              "       [4.51078247e-01, 5.48921753e-01],\n",
              "       [3.59228978e-02, 9.64077102e-01],\n",
              "       [9.99872421e-01, 1.27579095e-04],\n",
              "       [1.92777030e-02, 9.80722297e-01],\n",
              "       [2.69149168e-01, 7.30850832e-01],\n",
              "       [1.85401913e-02, 9.81459809e-01],\n",
              "       [4.76387719e-02, 9.52361228e-01],\n",
              "       [9.85521527e-01, 1.44784734e-02],\n",
              "       [4.58669888e-02, 9.54133011e-01],\n",
              "       [3.16804514e-02, 9.68319549e-01],\n",
              "       [1.46002273e-01, 8.53997727e-01],\n",
              "       [1.15270886e-03, 9.98847291e-01],\n",
              "       [3.04566404e-02, 9.69543360e-01],\n",
              "       [1.01021328e-01, 8.98978672e-01],\n",
              "       [9.16194733e-01, 8.38052671e-02],\n",
              "       [9.09588248e-01, 9.04117520e-02],\n",
              "       [3.18827450e-03, 9.96811725e-01],\n",
              "       [1.69814348e-02, 9.83018565e-01],\n",
              "       [5.04699197e-03, 9.94953008e-01],\n",
              "       [7.98118309e-01, 2.01881691e-01],\n",
              "       [9.72917555e-01, 2.70824454e-02],\n",
              "       [9.81333351e-01, 1.86666491e-02],\n",
              "       [5.59674275e-04, 9.99440326e-01],\n",
              "       [4.39309768e-02, 9.56069023e-01],\n",
              "       [9.33598454e-01, 6.64015458e-02],\n",
              "       [7.09866431e-02, 9.29013357e-01],\n",
              "       [9.30917525e-01, 6.90824753e-02],\n",
              "       [9.99926499e-01, 7.35014895e-05],\n",
              "       [1.63881639e-02, 9.83611836e-01],\n",
              "       [1.17292094e-02, 9.88270791e-01],\n",
              "       [8.86565146e-01, 1.13434854e-01],\n",
              "       [3.51115679e-01, 6.48884321e-01],\n",
              "       [6.84948525e-02, 9.31505148e-01],\n",
              "       [2.29563660e-01, 7.70436340e-01],\n",
              "       [3.58141058e-02, 9.64185894e-01],\n",
              "       [2.28147909e-02, 9.77185209e-01],\n",
              "       [9.19597149e-01, 8.04028505e-02],\n",
              "       [5.59869128e-02, 9.44013087e-01],\n",
              "       [1.17336376e-01, 8.82663624e-01],\n",
              "       [4.58080211e-02, 9.54191979e-01],\n",
              "       [9.97727385e-01, 2.27261534e-03],\n",
              "       [1.40950887e-01, 8.59049113e-01],\n",
              "       [3.83204593e-04, 9.99616795e-01],\n",
              "       [9.99580705e-01, 4.19294977e-04],\n",
              "       [9.99748268e-01, 2.51732142e-04],\n",
              "       [2.92531403e-02, 9.70746860e-01],\n",
              "       [9.99872936e-01, 1.27064177e-04],\n",
              "       [9.99211872e-01, 7.88127556e-04],\n",
              "       [5.26207233e-01, 4.73792767e-01],\n",
              "       [9.94904455e-01, 5.09554462e-03],\n",
              "       [2.86175751e-01, 7.13824249e-01],\n",
              "       [1.40679021e-01, 8.59320979e-01],\n",
              "       [3.31716512e-03, 9.96682835e-01],\n",
              "       [3.58451568e-02, 9.64154843e-01],\n",
              "       [7.39610820e-02, 9.26038918e-01],\n",
              "       [1.15270886e-03, 9.98847291e-01],\n",
              "       [9.98299283e-01, 1.70071741e-03],\n",
              "       [6.76990336e-01, 3.23009664e-01],\n",
              "       [1.68672621e-03, 9.98313274e-01],\n",
              "       [9.95152229e-01, 4.84777089e-03],\n",
              "       [2.84892191e-01, 7.15107809e-01],\n",
              "       [5.72863082e-03, 9.94271369e-01],\n",
              "       [3.75763918e-03, 9.96242361e-01],\n",
              "       [3.04964782e-02, 9.69503522e-01],\n",
              "       [1.87009450e-01, 8.12990550e-01],\n",
              "       [9.99888029e-01, 1.11970647e-04],\n",
              "       [3.93051449e-03, 9.96069486e-01],\n",
              "       [9.96947392e-01, 3.05260827e-03],\n",
              "       [3.04566404e-02, 9.69543360e-01],\n",
              "       [8.90852748e-01, 1.09147252e-01],\n",
              "       [7.04286393e-01, 2.95713607e-01],\n",
              "       [4.27735590e-03, 9.95722644e-01],\n",
              "       [1.57037512e-02, 9.84296249e-01],\n",
              "       [2.44343923e-01, 7.55656077e-01],\n",
              "       [9.97820670e-01, 2.17933050e-03],\n",
              "       [9.97908258e-01, 2.09174209e-03],\n",
              "       [7.70966860e-03, 9.92290331e-01],\n",
              "       [1.85565540e-02, 9.81443446e-01],\n",
              "       [9.99023474e-01, 9.76525550e-04],\n",
              "       [3.91997162e-03, 9.96080028e-01],\n",
              "       [2.47974405e-02, 9.75202560e-01],\n",
              "       [4.72066236e-01, 5.27933764e-01],\n",
              "       [3.58762338e-02, 9.64123766e-01],\n",
              "       [9.08720341e-03, 9.90912797e-01],\n",
              "       [1.27497622e-02, 9.87250238e-01],\n",
              "       [1.27328027e-02, 9.87267197e-01],\n",
              "       [9.80513777e-01, 1.94862227e-02],\n",
              "       [6.51044391e-03, 9.93489556e-01],\n",
              "       [7.20574604e-01, 2.79425396e-01],\n",
              "       [1.30877036e-01, 8.69122964e-01],\n",
              "       [1.17344200e-02, 9.88265580e-01],\n",
              "       [1.93543222e-02, 9.80645678e-01],\n",
              "       [1.12785106e-01, 8.87214894e-01],\n",
              "       [6.77272553e-03, 9.93227274e-01],\n",
              "       [4.08928814e-03, 9.95910712e-01],\n",
              "       [9.70498098e-01, 2.95019021e-02],\n",
              "       [7.53896333e-04, 9.99246104e-01],\n",
              "       [9.55720163e-01, 4.42798369e-02],\n",
              "       [1.17522686e-01, 8.82477314e-01],\n",
              "       [8.76726912e-03, 9.91232731e-01],\n",
              "       [7.20845989e-01, 2.79154011e-01],\n",
              "       [8.47848116e-01, 1.52151884e-01],\n",
              "       [1.93628539e-02, 9.80637146e-01],\n",
              "       [9.99788719e-01, 2.11280597e-04],\n",
              "       [2.68770188e-02, 9.73122981e-01],\n",
              "       [2.10149702e-02, 9.78985030e-01],\n",
              "       [9.98515084e-01, 1.48491558e-03],\n",
              "       [1.81239526e-01, 8.18760474e-01],\n",
              "       [9.38879189e-01, 6.11208108e-02],\n",
              "       [7.76425926e-01, 2.23574074e-01],\n",
              "       [5.16426030e-02, 9.48357397e-01],\n",
              "       [1.83593337e-03, 9.98164067e-01],\n",
              "       [7.38826658e-03, 9.92611733e-01],\n",
              "       [4.40065427e-02, 9.55993457e-01],\n",
              "       [1.86804552e-01, 8.13195448e-01],\n",
              "       [9.80608008e-01, 1.93919921e-02],\n",
              "       [9.94715433e-01, 5.28456663e-03],\n",
              "       [9.31493331e-01, 6.85066687e-02]])"
            ]
          },
          "metadata": {
            "tags": []
          },
          "execution_count": 30
        }
      ]
    },
    {
      "cell_type": "code",
      "metadata": {
        "colab": {
          "base_uri": "https://localhost:8080/"
        },
        "id": "bVRIG4TCmdmy",
        "outputId": "3e019a70-eacf-40e6-a5cc-c1da696791f4"
      },
      "source": [
        "model_1.coef_"
      ],
      "execution_count": 31,
      "outputs": [
        {
          "output_type": "execute_result",
          "data": {
            "text/plain": [
              "array([[-0.94953524,  3.45991194]])"
            ]
          },
          "metadata": {
            "tags": []
          },
          "execution_count": 31
        }
      ]
    },
    {
      "cell_type": "code",
      "metadata": {
        "id": "wsrBdPu6vJG6"
      },
      "source": [
        "from sklearn.metrics import accuracy_score, confusion_matrix, classification_report"
      ],
      "execution_count": 32,
      "outputs": []
    },
    {
      "cell_type": "code",
      "metadata": {
        "id": "_bFIQrC3vnNh"
      },
      "source": [
        "accuracy = accuracy_score(y_test, y_pred)"
      ],
      "execution_count": 33,
      "outputs": []
    },
    {
      "cell_type": "code",
      "metadata": {
        "colab": {
          "base_uri": "https://localhost:8080/"
        },
        "id": "xvQgK5gbv_yq",
        "outputId": "33028a6c-db0a-4388-c9e4-63eaa6a085ef"
      },
      "source": [
        "accuracy"
      ],
      "execution_count": 34,
      "outputs": [
        {
          "output_type": "execute_result",
          "data": {
            "text/plain": [
              "0.93"
            ]
          },
          "metadata": {
            "tags": []
          },
          "execution_count": 34
        }
      ]
    },
    {
      "cell_type": "code",
      "metadata": {
        "colab": {
          "base_uri": "https://localhost:8080/"
        },
        "id": "Zy0ok4qtwPkx",
        "outputId": "98220198-54bd-4c66-f660-930c33de60b6"
      },
      "source": [
        "confusion_matrix(y_test,y_pred)"
      ],
      "execution_count": 35,
      "outputs": [
        {
          "output_type": "execute_result",
          "data": {
            "text/plain": [
              "array([[172,  21],\n",
              "       [ 14, 293]])"
            ]
          },
          "metadata": {
            "tags": []
          },
          "execution_count": 35
        }
      ]
    },
    {
      "cell_type": "code",
      "metadata": {
        "id": "hrq-vBcywaMU"
      },
      "source": [
        "from sklearn.metrics import plot_confusion_matrix"
      ],
      "execution_count": 36,
      "outputs": []
    },
    {
      "cell_type": "code",
      "metadata": {
        "colab": {
          "base_uri": "https://localhost:8080/",
          "height": 296
        },
        "id": "aPSvTz7zwhdG",
        "outputId": "1096e448-d048-4782-d391-dc5ddbe2e9bc"
      },
      "source": [
        "plot_confusion_matrix(model_1, X_test, y_test, normalize='true')"
      ],
      "execution_count": 37,
      "outputs": [
        {
          "output_type": "execute_result",
          "data": {
            "text/plain": [
              "<sklearn.metrics._plot.confusion_matrix.ConfusionMatrixDisplay at 0x7f2c4e3a2810>"
            ]
          },
          "metadata": {
            "tags": []
          },
          "execution_count": 37
        },
        {
          "output_type": "display_data",
          "data": {
            "image/png": "[encoded data removed]",
            "text/plain": [
              "<Figure size 432x288 with 2 Axes>"
            ]
          },
          "metadata": {
            "tags": [],
            "needs_background": "light"
          }
        }
      ]
    },
    {
      "cell_type": "code",
      "metadata": {
        "colab": {
          "base_uri": "https://localhost:8080/"
        },
        "id": "NDdju29QwrOO",
        "outputId": "e7af9acc-dc33-4b82-f148-96b6a63b3cca"
      },
      "source": [
        "print(classification_report(y_test,y_pred))"
      ],
      "execution_count": 38,
      "outputs": [
        {
          "output_type": "stream",
          "text": [
            "              precision    recall  f1-score   support\n",
            "\n",
            "           0       0.92      0.89      0.91       193\n",
            "           1       0.93      0.95      0.94       307\n",
            "\n",
            "    accuracy                           0.93       500\n",
            "   macro avg       0.93      0.92      0.93       500\n",
            "weighted avg       0.93      0.93      0.93       500\n",
            "\n"
          ],
          "name": "stdout"
        }
      ]
    },
    {
      "cell_type": "code",
      "metadata": {
        "id": "vArt1VIFxn1C"
      },
      "source": [
        "from sklearn.metrics import plot_precision_recall_curve, plot_roc_curve"
      ],
      "execution_count": 39,
      "outputs": []
    },
    {
      "cell_type": "code",
      "metadata": {
        "colab": {
          "base_uri": "https://localhost:8080/",
          "height": 296
        },
        "id": "E8RXtNkxyYgn",
        "outputId": "4b8bc568-5ac4-43da-f2c8-6510a94bc027"
      },
      "source": [
        "plot_roc_curve(model_1, X_test, y_test)"
      ],
      "execution_count": 40,
      "outputs": [
        {
          "output_type": "execute_result",
          "data": {
            "text/plain": [
              "<sklearn.metrics._plot.roc_curve.RocCurveDisplay at 0x7f2c4e2c7a10>"
            ]
          },
          "metadata": {
            "tags": []
          },
          "execution_count": 40
        },
        {
          "output_type": "display_data",
          "data": {
            "image/png": "[encoded data removed]",
            "text/plain": [
              "<Figure size 432x288 with 1 Axes>"
            ]
          },
          "metadata": {
            "tags": [],
            "needs_background": "light"
          }
        }
      ]
    },
    {
      "cell_type": "code",
      "metadata": {
        "colab": {
          "base_uri": "https://localhost:8080/",
          "height": 296
        },
        "id": "qgzI4_z_yhYX",
        "outputId": "12e19c60-bd5c-43dd-b2f8-6e678809c60e"
      },
      "source": [
        "plot_precision_recall_curve(model_1, X_test, y_test)"
      ],
      "execution_count": 41,
      "outputs": [
        {
          "output_type": "execute_result",
          "data": {
            "text/plain": [
              "<sklearn.metrics._plot.precision_recall_curve.PrecisionRecallDisplay at 0x7f2c4e2816d0>"
            ]
          },
          "metadata": {
            "tags": []
          },
          "execution_count": 41
        },
        {
          "output_type": "display_data",
          "data": {
            "image/png": "[encoded data removed]",
            "text/plain": [
              "<Figure size 432x288 with 1 Axes>"
            ]
          },
          "metadata": {
            "tags": [],
            "needs_background": "light"
          }
        }
      ]
    },
    {
      "cell_type": "code",
      "metadata": {
        "colab": {
          "base_uri": "https://localhost:8080/"
        },
        "id": "Q8gJZS8By2R_",
        "outputId": "f6a60791-d3f4-4cf0-b7d6-57f3138a1d9d"
      },
      "source": [
        "model_1.predict_log_proba(X_test)"
      ],
      "execution_count": 42,
      "outputs": [
        {
          "output_type": "execute_result",
          "data": {
            "text/plain": [
              "array([[-3.73624645e+00, -2.41322882e-02],\n",
              "       [-3.61473437e+00, -2.72931691e-02],\n",
              "       [-1.08646395e-02, -4.52766925e+00],\n",
              "       [-6.26186243e+00, -1.90951150e-03],\n",
              "       [-2.53048651e-02, -3.68938436e+00],\n",
              "       [-1.04014032e-02, -4.57101075e+00],\n",
              "       [-2.60338392e+00, -7.69055235e-02],\n",
              "       [-4.06900821e+00, -1.72421290e-02],\n",
              "       [-2.93827944e-03, -5.83139987e+00],\n",
              "       [-3.40966832e+00, -3.36107265e-02],\n",
              "       [-2.48766737e+00, -8.67607797e-02],\n",
              "       [-4.61233045e+00, -9.97827083e-03],\n",
              "       [-4.94911900e+00, -7.11490318e-03],\n",
              "       [-6.80257902e-02, -2.72168847e+00],\n",
              "       [-9.05680479e+00, -1.16601725e-04],\n",
              "       [-2.71976229e+00, -6.81615190e-02],\n",
              "       [-1.09328401e-02, -4.52144561e+00],\n",
              "       [-5.87795246e+00, -2.80444235e-03],\n",
              "       [-7.48950309e+00, -5.59076878e-04],\n",
              "       [-3.48276726e-03, -5.66166899e+00],\n",
              "       [-1.25838703e-01, -2.13501396e+00],\n",
              "       [-2.03232536e+00, -1.40447221e-01],\n",
              "       [-6.05783489e-01, -7.88880302e-01],\n",
              "       [-3.36951219e+00, -3.50122549e-02],\n",
              "       [-9.20332815e-01, -5.08139950e-01],\n",
              "       [-6.24670873e-01, -7.66659449e-01],\n",
              "       [-3.24421401e+00, -3.97800431e-02],\n",
              "       [-3.94792464e+00, -1.94832761e-02],\n",
              "       [-9.10761692e-02, -2.44125159e+00],\n",
              "       [-8.12249285e+00, -2.96831941e-04],\n",
              "       [-3.08200962e+00, -4.69521925e-02],\n",
              "       [-6.13206141e+00, -2.17446118e-03],\n",
              "       [-4.02994134e+00, -1.79352520e-02],\n",
              "       [-5.07653346e+00, -6.26106762e-03],\n",
              "       [-3.12255770e+00, -4.50437813e-02],\n",
              "       [-3.11279706e-02, -3.48517210e+00],\n",
              "       [-2.72186147e+00, -6.80136130e-02],\n",
              "       [-3.57300811e+00, -2.84728157e-02],\n",
              "       [-1.18535514e-02, -4.44104868e+00],\n",
              "       [-3.08329607e+00, -4.68903921e-02],\n",
              "       [-5.07564024e+00, -6.26668020e-03],\n",
              "       [-9.43618183e-01, -4.93013581e-01],\n",
              "       [-9.97183672e-01, -4.60317841e-01],\n",
              "       [-5.48774887e-01, -8.61937669e-01],\n",
              "       [-3.10318354e-04, -8.07806699e+00],\n",
              "       [-2.76242310e+00, -6.52199177e-02],\n",
              "       [-2.72060193e+00, -6.81023194e-02],\n",
              "       [-4.11208003e+00, -1.65092115e-02],\n",
              "       [-2.88136460e+00, -5.76907818e-02],\n",
              "       [-1.99786603e+00, -1.45747874e-01],\n",
              "       [-1.70977597e+00, -1.99556813e-01],\n",
              "       [-4.80190626e-01, -9.64078197e-01],\n",
              "       [-5.28106632e-01, -8.90916573e-01],\n",
              "       [-1.35805863e-01, -2.06366348e+00],\n",
              "       [-5.37525423e+00, -4.64049202e-03],\n",
              "       [-2.25498436e-01, -1.60007344e+00],\n",
              "       [-3.28850903e+00, -3.80232429e-02],\n",
              "       [-5.45307776e+00, -4.29230077e-03],\n",
              "       [-6.26051675e+00, -1.91208528e-03],\n",
              "       [-1.63787074e+00, -2.16159890e-01],\n",
              "       [-1.19409902e+00, -3.60936596e-01],\n",
              "       [-2.09266336e-01, -1.66695665e+00],\n",
              "       [-2.56786664e+00, -7.97999845e-02],\n",
              "       [-2.00247959e-03, -6.21437014e+00],\n",
              "       [-6.08880233e+00, -2.27069984e-03],\n",
              "       [-2.84049007e+00, -6.01715796e-02],\n",
              "       [-3.60593806e-03, -5.62697576e+00],\n",
              "       [-3.36821036e+00, -3.50586736e-02],\n",
              "       [-2.03349706e+00, -1.40270663e-01],\n",
              "       [-3.12255770e+00, -4.50437813e-02],\n",
              "       [-5.28806857e+00, -5.06430949e-03],\n",
              "       [-3.53307719e+00, -2.96501305e-02],\n",
              "       [-3.40879920e+00, -3.36404478e-02],\n",
              "       [-1.35070698e-02, -4.31128798e+00],\n",
              "       [-4.53140899e+00, -1.08238642e-02],\n",
              "       [-4.15297095e+00, -1.58424827e-02],\n",
              "       [-1.78097322e+00, -1.84492837e-01],\n",
              "       [-3.62377612e-03, -5.62205001e+00],\n",
              "       [-3.52202478e-02, -3.36369258e+00],\n",
              "       [-4.11031182e+00, -1.65386720e-02],\n",
              "       [-6.59872078e+00, -1.36303787e-03],\n",
              "       [-4.40727654e+00, -1.22632144e-02],\n",
              "       [-2.14112389e+00, -1.25022197e-01],\n",
              "       [-7.47792450e-01, -6.41333928e-01],\n",
              "       [-1.46364566e-02, -4.23154914e+00],\n",
              "       [-1.28915366e-02, -4.35762310e+00],\n",
              "       [-1.74283001e+00, -1.92401443e-01],\n",
              "       [-1.92985269e-01, -1.74008273e+00],\n",
              "       [-8.89069826e-03, -4.72719174e+00],\n",
              "       [-5.54077556e+00, -3.93119983e-03],\n",
              "       [-9.68926640e-01, -4.77213799e-01],\n",
              "       [-5.83696174e+00, -2.92195866e-03],\n",
              "       [-3.41392860e-05, -1.02850788e+01],\n",
              "       [-7.06343766e+00, -8.56197412e-04],\n",
              "       [-1.65259024e-01, -1.88173303e+00],\n",
              "       [-5.31804142e-01, -8.85625745e-01],\n",
              "       [-3.99277484e-02, -3.24058120e+00],\n",
              "       [-5.62268231e+00, -3.62148136e-03],\n",
              "       [-2.40927416e+00, -9.41793800e-02],\n",
              "       [-2.21602312e+00, -1.15457871e-01],\n",
              "       [-5.79194350e+00, -3.05671174e-03],\n",
              "       [-1.11977159e-01, -2.24492655e+00],\n",
              "       [-2.48103639e-03, -6.00031917e+00],\n",
              "       [-2.54399770e-02, -3.68412647e+00],\n",
              "       [-1.67367414e+00, -2.07709138e-01],\n",
              "       [-4.52105931e-02, -3.11894399e+00],\n",
              "       [-3.28721112e+00, -3.80735780e-02],\n",
              "       [-3.52938960e-04, -7.94939190e+00],\n",
              "       [-4.67267042e-03, -5.36835997e+00],\n",
              "       [-3.90586425e+00, -2.03287920e-02],\n",
              "       [-4.28333417e+00, -1.38926426e-02],\n",
              "       [-1.06793307e-04, -9.14466870e+00],\n",
              "       [-2.42656541e-02, -3.73080163e+00],\n",
              "       [-1.02073320e+00, -4.46803878e-01],\n",
              "       [-5.34996576e-02, -2.95471060e+00],\n",
              "       [-1.72768498e-01, -1.84094359e+00],\n",
              "       [-1.25857983e-03, -6.67840054e+00],\n",
              "       [-7.95374600e-01, -6.00407765e-01],\n",
              "       [-1.88913313e+00, -1.63935021e-01],\n",
              "       [-1.34649287e-02, -4.31439175e+00],\n",
              "       [-4.19521653e+00, -1.51821474e-02],\n",
              "       [-1.12380212e-04, -9.09367887e+00],\n",
              "       [-1.68922106e-03, -6.38433226e+00],\n",
              "       [-1.25146997e+00, -3.36989905e-01],\n",
              "       [-4.07210043e+00, -1.71884347e-02],\n",
              "       [-2.92006836e-01, -1.37343117e+00],\n",
              "       [-6.08790553e+00, -2.27273942e-03],\n",
              "       [-3.32180271e-03, -5.70890810e+00],\n",
              "       [-1.88646352e+00, -1.64411328e-01],\n",
              "       [-2.61150478e-01, -1.47039370e+00],\n",
              "       [-6.80804915e+00, -1.10545698e-03],\n",
              "       [-6.34213382e+00, -1.76209312e-03],\n",
              "       [-3.08372490e+00, -4.68698096e-02],\n",
              "       [-1.19315945e+00, -3.61345276e-01],\n",
              "       [-8.36391004e-02, -2.52277225e+00],\n",
              "       [-1.47399951e+00, -2.60076936e-01],\n",
              "       [-6.42780085e+00, -1.61730790e-03],\n",
              "       [-4.97650358e-01, -9.36384939e-01],\n",
              "       [-2.52752760e-01, -1.49905947e+00],\n",
              "       [-7.75484390e-03, -4.86331253e+00],\n",
              "       [-3.23338721e-04, -8.03697178e+00],\n",
              "       [-3.08286724e+00, -4.69109834e-02],\n",
              "       [-2.82197131e-01, -1.40293204e+00],\n",
              "       [-4.44567302e+00, -1.17985393e-02],\n",
              "       [-6.59827198e+00, -1.36365016e-03],\n",
              "       [-1.67403928e+00, -2.07624862e-01],\n",
              "       [-6.29034184e-03, -5.07188339e+00],\n",
              "       [-6.30684670e-02, -2.79490287e+00],\n",
              "       [-8.71091192e-05, -9.34839254e+00],\n",
              "       [-6.85195370e-01, -7.01162729e-01],\n",
              "       [-7.50635974e-01, -6.38784449e-01],\n",
              "       [-2.10533002e+00, -1.29887149e-01],\n",
              "       [-2.33307275e-02, -3.76962670e+00],\n",
              "       [-8.08094778e+00, -3.09425540e-04],\n",
              "       [-1.74208855e+00, -1.92558819e-01],\n",
              "       [-3.08286724e+00, -4.69109834e-02],\n",
              "       [-6.23627590e-01, -7.67863250e-01],\n",
              "       [-2.96298210e+00, -5.30470607e-02],\n",
              "       [-5.14363290e-04, -7.57283792e+00],\n",
              "       [-2.92063774e+00, -5.54062701e-02],\n",
              "       [-3.57431854e+00, -2.84349934e-02],\n",
              "       [-5.28434859e-03, -5.24564693e+00],\n",
              "       [-4.74118476e+00, -8.76661379e-03],\n",
              "       [-2.18743155e-01, -1.62723573e+00],\n",
              "       [-8.19391202e-01, -5.81069045e-01],\n",
              "       [-2.14230498e-02, -3.85398025e+00],\n",
              "       [-1.95779968e+00, -1.52182763e-01],\n",
              "       [-4.95090393e+00, -7.10216971e-03],\n",
              "       [-5.66537581e-01, -8.38142707e-01],\n",
              "       [-1.83054848e-03, -6.30405477e+00],\n",
              "       [-4.02817566e+00, -1.79672344e-02],\n",
              "       [-3.16404252e+00, -4.31732780e-02],\n",
              "       [-2.31860785e-02, -3.77577388e+00],\n",
              "       [-3.12685435e+00, -4.48462631e-02],\n",
              "       [-4.19787245e+00, -1.51415718e-02],\n",
              "       [-2.75695057e+00, -6.55898112e-02],\n",
              "       [-6.00229711e+00, -2.47612782e-03],\n",
              "       [-3.49101551e+00, -3.09437724e-02],\n",
              "       [-4.55095442e-02, -3.11250169e+00],\n",
              "       [-7.04886898e-01, -6.81543686e-01],\n",
              "       [-4.33355500e-01, -1.04506196e+00],\n",
              "       [-8.06812255e-03, -4.82386582e+00],\n",
              "       [-4.53318732e+00, -1.08045286e-02],\n",
              "       [-4.49030804e+00, -1.12805750e-02],\n",
              "       [-6.04958269e+00, -2.36163263e-03],\n",
              "       [-1.65934005e-02, -4.10703545e+00],\n",
              "       [-5.58038260e+00, -3.77825104e-03],\n",
              "       [-4.15252860e+00, -1.58495480e-02],\n",
              "       [-5.13246444e-01, -9.12670454e-01],\n",
              "       [-4.27801577e+00, -1.39672458e-02],\n",
              "       [-1.63895704e+00, -2.15897941e-01],\n",
              "       [-1.02400376e-04, -9.18667137e+00],\n",
              "       [-2.25589181e-01, -1.59971477e+00],\n",
              "       [-3.88938366e-01, -1.13250846e+00],\n",
              "       [-1.84866718e+00, -1.71318563e-01],\n",
              "       [-5.71222817e+00, -3.31077413e-03],\n",
              "       [-6.89377010e+00, -1.01459796e-03],\n",
              "       [-6.13385518e+00, -2.17055997e-03],\n",
              "       [-4.48817457e-01, -1.01716859e+00],\n",
              "       [-4.69955208e+00, -9.14100391e-03],\n",
              "       [-1.92183074e+00, -1.58220896e-01],\n",
              "       [-1.40010223e-02, -4.27561728e+00],\n",
              "       [-8.41826401e+00, -2.20822002e-04],\n",
              "       [-6.10364309e-04, -7.40175972e+00],\n",
              "       [-2.10809328e+00, -1.29504488e-01],\n",
              "       [-1.67403928e+00, -2.07624862e-01],\n",
              "       [-3.61342244e+00, -2.73294934e-02],\n",
              "       [-3.23048271e-04, -8.03787032e+00],\n",
              "       [-2.52500958e+00, -8.34441611e-02],\n",
              "       [-8.79967318e-03, -4.73743731e+00],\n",
              "       [-7.40149564e+00, -6.10525560e-04],\n",
              "       [-3.86208026e+00, -2.12483745e-02],\n",
              "       [-1.65670241e-01, -1.87944774e+00],\n",
              "       [-8.93147751e-01, -5.26557292e-01],\n",
              "       [-5.86516933e-01, -8.12519652e-01],\n",
              "       [-9.17361617e-01, -5.10112337e-01],\n",
              "       [-2.10769846e+00, -1.29559089e-01],\n",
              "       [-4.74372246e-02, -3.07197288e+00],\n",
              "       [-1.30348402e-01, -2.10201075e+00],\n",
              "       [-6.94804376e-04, -7.27222761e+00],\n",
              "       [-4.15164391e+00, -1.58636881e-02],\n",
              "       [-4.48630875e+00, -1.13260366e-02],\n",
              "       [-9.62302666e-03, -4.64840410e+00],\n",
              "       [-1.81376829e+00, -1.77977329e-01],\n",
              "       [-4.53051983e+00, -1.08335449e-02],\n",
              "       [-1.87677176e-02, -3.98498622e+00],\n",
              "       [-2.71817070e-01, -1.43545788e+00],\n",
              "       [-1.18747532e-02, -4.43927221e+00],\n",
              "       [-3.52827837e+00, -2.97949039e-02],\n",
              "       [-3.05179432e-03, -5.79355107e+00],\n",
              "       [-1.18323873e-02, -4.44282518e+00],\n",
              "       [-3.73756258e+00, -2.41001624e-02],\n",
              "       [-2.43134480e-01, -1.53324593e+00],\n",
              "       [-9.86768058e-02, -2.36483808e+00],\n",
              "       [-8.88700042e+00, -1.38183047e-04],\n",
              "       [-1.63823281e+00, -2.16072542e-01],\n",
              "       [-7.53103800e+00, -5.36325210e-04],\n",
              "       [-3.57562902e+00, -2.83972206e-02],\n",
              "       [-2.63983699e+00, -7.40480237e-02],\n",
              "       [-6.04190878e-02, -2.83650765e+00],\n",
              "       [-5.11917720e+00, -5.99889946e-03],\n",
              "       [-2.68057806e+00, -7.09843521e-02],\n",
              "       [-4.32078242e+00, -1.33785769e-02],\n",
              "       [-6.43765220e-01, -7.45094974e-01],\n",
              "       [-1.43843443e-03, -6.54491909e+00],\n",
              "       [-1.19284634e+00, -3.61481588e-01],\n",
              "       [-2.69940317e-03, -5.91607398e+00],\n",
              "       [-4.36490482e+00, -1.27974040e-02],\n",
              "       [-5.66767570e+00, -3.46187385e-03],\n",
              "       [-4.23483192e+00, -1.45881355e-02],\n",
              "       [-3.01648295e-05, -1.04088490e+01],\n",
              "       [-2.96298210e+00, -5.30470607e-02],\n",
              "       [-3.74019495e+00, -2.40360376e-02],\n",
              "       [-5.11971347e-02, -2.99756107e+00],\n",
              "       [-5.37212290e+00, -4.65507964e-03],\n",
              "       [-3.62052630e-03, -5.62294559e+00],\n",
              "       [-5.96084439e+00, -2.58106252e-03],\n",
              "       [-1.31544724e+00, -3.12458867e-01],\n",
              "       [-1.74245926e+00, -1.92480117e-01],\n",
              "       [-3.73800130e+00, -2.40894632e-02],\n",
              "       [-5.24449000e+00, -5.29048199e-03],\n",
              "       [-1.72625937e-01, -1.84169986e+00],\n",
              "       [-6.39407985e-04, -7.35528752e+00],\n",
              "       [-1.88570100e+00, -1.64547650e-01],\n",
              "       [-4.23660357e+00, -1.45621243e-02],\n",
              "       [-3.20400599e-03, -5.74495496e+00],\n",
              "       [-3.73712387e+00, -2.41108663e-02],\n",
              "       [-1.10465501e+00, -4.02457388e-01],\n",
              "       [-9.20424676e-03, -4.69268889e+00],\n",
              "       [-5.56254068e-03, -5.19448030e+00],\n",
              "       [-3.37081408e+00, -3.49658966e-02],\n",
              "       [-1.00113988e-02, -4.60903248e+00],\n",
              "       [-2.44962987e+00, -9.02809331e-02],\n",
              "       [-4.44611716e+00, -1.17932691e-02],\n",
              "       [-2.72396096e+00, -6.78660172e-02],\n",
              "       [-2.76410736e+00, -6.51065111e-02],\n",
              "       [-7.42539732e-02, -2.63716125e+00],\n",
              "       [-3.99046097e+00, -1.86642874e-02],\n",
              "       [-5.15959769e+00, -5.76057035e-03],\n",
              "       [-3.77946791e+00, -2.30995914e-02],\n",
              "       [-4.44478473e+00, -1.18090865e-02],\n",
              "       [-3.53351348e+00, -2.96370037e-02],\n",
              "       [-2.88094038e+00, -5.77159807e-02],\n",
              "       [-4.40416902e+00, -1.23016175e-02],\n",
              "       [-2.69819192e-03, -5.91652218e+00],\n",
              "       [-9.67811550e-01, -4.77896377e-01],\n",
              "       [-3.73887875e+00, -2.40680789e-02],\n",
              "       [-6.04046900e-03, -5.11229233e+00],\n",
              "       [-4.35214898e-04, -7.73988823e+00],\n",
              "       [-2.29613830e-04, -8.37922646e+00],\n",
              "       [-5.34762508e-02, -2.95513661e+00],\n",
              "       [-3.27078941e-01, -1.27663964e+00],\n",
              "       [-4.82494113e+00, -8.05941644e-03],\n",
              "       [-6.59782318e+00, -1.36426273e-03],\n",
              "       [-1.81376829e+00, -1.77977329e-01],\n",
              "       [-5.67120940e-01, -8.37377816e-01],\n",
              "       [-5.92029253e+00, -2.68802429e-03],\n",
              "       [-4.50909896e-03, -5.40391164e+00],\n",
              "       [-5.03479413e+00, -6.52880404e-03],\n",
              "       [-5.45621023e+00, -4.27884757e-03],\n",
              "       [-1.95857167e+00, -1.52055925e-01],\n",
              "       [-2.10809328e+00, -1.29504488e-01],\n",
              "       [-6.84081429e-01, -7.02295873e-01],\n",
              "       [-1.96011596e+00, -1.51802542e-01],\n",
              "       [-7.71524811e-02, -2.60029977e+00],\n",
              "       [-3.25525437e-04, -8.03023271e+00],\n",
              "       [-1.16469725e+00, -3.73991314e-01],\n",
              "       [-5.96487874e+00, -2.57065722e-03],\n",
              "       [-4.65615471e+00, -9.54837472e-03],\n",
              "       [-4.44611716e+00, -1.17932691e-02],\n",
              "       [-3.82185391e+00, -2.21302643e-02],\n",
              "       [-1.64185523e+00, -2.15200801e-01],\n",
              "       [-4.55311987e-04, -7.69475534e+00],\n",
              "       [-5.24717229e+00, -5.27627293e-03],\n",
              "       [-1.28163861e+00, -3.25151471e-01],\n",
              "       [-4.49075242e+00, -1.12755349e-02],\n",
              "       [-2.10730367e+00, -1.29613712e-01],\n",
              "       [-3.90542388e+00, -2.03378379e-02],\n",
              "       [-3.78842491e-01, -1.15408307e+00],\n",
              "       [-8.72266382e-05, -9.34704440e+00],\n",
              "       [-5.19472785e-04, -7.56295586e+00],\n",
              "       [-2.36826397e+00, -9.83221791e-02],\n",
              "       [-2.00788114e-03, -6.21167904e+00],\n",
              "       [-1.02332238e+00, -4.45348314e-01],\n",
              "       [-9.66975732e-01, -4.78408809e-01],\n",
              "       [-2.41091039e+00, -9.40179368e-02],\n",
              "       [-3.25452492e-01, -1.28085561e+00],\n",
              "       [-4.11384829e+00, -1.64798031e-02],\n",
              "       [-5.92477466e+00, -2.67598707e-03],\n",
              "       [-1.88570100e+00, -1.64547650e-01],\n",
              "       [-5.57077251e-02, -2.91536101e+00],\n",
              "       [-3.40955877e-02, -3.39558665e+00],\n",
              "       [-6.84283710e-03, -4.98797232e+00],\n",
              "       [-2.60463243e+00, -7.68057847e-02],\n",
              "       [-2.08268237e-03, -6.17513977e+00],\n",
              "       [-2.88263732e+00, -5.76152494e-02],\n",
              "       [-8.93413216e-01, -5.26373341e-01],\n",
              "       [-3.65782232e+00, -2.61269669e-02],\n",
              "       [-1.71088045e+00, -1.99313041e-01],\n",
              "       [-2.76410736e+00, -6.51065111e-02],\n",
              "       [-9.08869273e-05, -9.30593982e+00],\n",
              "       [-9.33889335e-04, -6.97661952e+00],\n",
              "       [-3.77946791e+00, -2.30995914e-02],\n",
              "       [-1.37692761e+00, -2.90823922e-01],\n",
              "       [-4.82672438e+00, -8.04499938e-03],\n",
              "       [-4.36579223e+00, -1.27859796e-02],\n",
              "       [-3.24594163e+00, -3.97099960e-02],\n",
              "       [-6.57697897e-03, -5.02746645e+00],\n",
              "       [-5.32852610e+00, -4.86302030e-03],\n",
              "       [-3.12126887e+00, -4.51032025e-02],\n",
              "       [-3.90970072e-01, -1.12824833e+00],\n",
              "       [-1.72914593e-02, -4.06617585e+00],\n",
              "       [-6.98174351e+00, -9.29114114e-04],\n",
              "       [-3.36777643e+00, -3.50741599e-02],\n",
              "       [-4.44522887e+00, -1.18038117e-02],\n",
              "       [-1.89519717e-05, -1.08736121e+01],\n",
              "       [-5.96532700e+00, -2.56950367e-03],\n",
              "       [-8.42590958e-01, -5.63160562e-01],\n",
              "       [-1.07033538e-04, -9.14242185e+00],\n",
              "       [-2.60255164e+00, -7.69720853e-02],\n",
              "       [-8.30416511e-04, -7.09399834e+00],\n",
              "       [-3.36864429e+00, -3.50431940e-02],\n",
              "       [-1.31009045e-01, -2.09727840e+00],\n",
              "       [-1.22197870e+00, -3.49056288e-01],\n",
              "       [-7.36220954e+00, -6.34995870e-04],\n",
              "       [-5.20092151e+00, -5.52672748e-03],\n",
              "       [-5.58262122e+00, -3.76978649e-03],\n",
              "       [-3.37944013e-01, -1.24909298e+00],\n",
              "       [-2.91893705e+00, -5.55032456e-02],\n",
              "       [-4.74385776e+00, -8.74310935e-03],\n",
              "       [-1.24986625e+00, -3.37633276e-01],\n",
              "       [-1.59091059e-02, -4.14880764e+00],\n",
              "       [-3.19252553e-03, -5.74853881e+00],\n",
              "       [-1.28391227e+00, -3.24279212e-01],\n",
              "       [-2.68309001e+00, -7.07998102e-02],\n",
              "       [-1.46625996e-02, -4.22977761e+00],\n",
              "       [-4.19565917e+00, -1.51753773e-02],\n",
              "       [-4.27845895e+00, -1.39610137e-02],\n",
              "       [-1.40883894e+00, -2.80278762e-01],\n",
              "       [-9.48285662e-05, -9.26348728e+00],\n",
              "       [-7.06707162e-01, -6.79768615e-01],\n",
              "       [-6.93573546e+00, -9.72880739e-04],\n",
              "       [-7.96114459e-01, -5.99799373e-01],\n",
              "       [-3.32638037e+00, -3.65840060e-02],\n",
              "       [-1.27587234e-04, -8.96677403e+00],\n",
              "       [-3.94880614e+00, -1.94659410e-02],\n",
              "       [-1.31248952e+00, -3.13545901e-01],\n",
              "       [-3.98781440e+00, -1.87142150e-02],\n",
              "       [-3.04410831e+00, -4.88108749e-02],\n",
              "       [-1.45843093e-02, -4.23509233e+00],\n",
              "       [-3.08200962e+00, -4.69521925e-02],\n",
              "       [-3.45205546e+00, -3.21931340e-02],\n",
              "       [-1.92413309e+00, -1.57826747e-01],\n",
              "       [-6.76564058e+00, -1.15337374e-03],\n",
              "       [-3.49145123e+00, -3.09300817e-02],\n",
              "       [-2.29242362e+00, -1.06495969e-01],\n",
              "       [-8.75263464e-02, -2.47925942e+00],\n",
              "       [-9.47632566e-02, -2.40338102e+00],\n",
              "       [-5.74827542e+00, -3.19336788e-03],\n",
              "       [-4.07563460e+00, -1.71272727e-02],\n",
              "       [-5.28896286e+00, -5.05977105e-03],\n",
              "       [-2.25498436e-01, -1.60007344e+00],\n",
              "       [-2.74559336e-02, -3.60886953e+00],\n",
              "       [-1.88430699e-02, -3.98101682e+00],\n",
              "       [-7.48815560e+00, -5.59830951e-04],\n",
              "       [-3.12513559e+00, -4.49251686e-02],\n",
              "       [-6.87088538e-02, -2.71203494e+00],\n",
              "       [-2.64526355e+00, -7.36321625e-02],\n",
              "       [-7.15845935e-02, -2.67245419e+00],\n",
              "       [-7.35041909e-05, -9.51820489e+00],\n",
              "       [-4.11119592e+00, -1.65239353e-02],\n",
              "       [-4.44567302e+00, -1.17985393e-02],\n",
              "       [-1.20400669e-01, -2.17652658e+00],\n",
              "       [-1.04663954e+00, -4.32500819e-01],\n",
              "       [-2.68099668e+00, -7.09535629e-02],\n",
              "       [-1.47157490e+00, -2.60798250e-01],\n",
              "       [-3.32941345e+00, -3.64711667e-02],\n",
              "       [-3.78034623e+00, -2.30790757e-02],\n",
              "       [-8.38195858e-02, -2.52070565e+00],\n",
              "       [-2.88263732e+00, -5.76152494e-02],\n",
              "       [-2.14271046e+00, -1.24811098e-01],\n",
              "       [-3.08329607e+00, -4.68903921e-02],\n",
              "       [-2.27520164e-03, -6.08682398e+00],\n",
              "       [-1.95934377e+00, -1.51929184e-01],\n",
              "       [-7.86694153e+00, -3.83278035e-04],\n",
              "       [-4.19382905e-04, -7.77693588e+00],\n",
              "       [-2.51763831e-04, -8.28714497e+00],\n",
              "       [-3.53176835e+00, -2.96895453e-02],\n",
              "       [-1.27072251e-04, -8.97081827e+00],\n",
              "       [-7.88438292e-04, -7.14585061e+00],\n",
              "       [-6.42060165e-01, -7.46985254e-01],\n",
              "       [-5.10857118e-03, -5.27938872e+00],\n",
              "       [-1.25114914e+00, -3.37118497e-01],\n",
              "       [-1.96127443e+00, -1.51612761e-01],\n",
              "       [-5.70864474e+00, -3.32267911e-03],\n",
              "       [-3.32854682e+00, -3.65033716e-02],\n",
              "       [-2.60421624e+00, -7.68390171e-02],\n",
              "       [-6.76564058e+00, -1.15337374e-03],\n",
              "       [-1.70216527e-03, -6.37670511e+00],\n",
              "       [-3.90098281e-01, -1.13007304e+00],\n",
              "       [-6.38496579e+00, -1.68815033e-03],\n",
              "       [-4.85955945e-03, -5.32923629e+00],\n",
              "       [-1.25564445e+00, -3.35321966e-01],\n",
              "       [-5.16227873e+00, -5.74510236e-03],\n",
              "       [-5.58396440e+00, -3.76471684e-03],\n",
              "       [-3.49014407e+00, -3.09711717e-02],\n",
              "       [-1.67659613e+00, -2.07035793e-01],\n",
              "       [-1.11976916e-04, -9.09727380e+00],\n",
              "       [-5.53898495e+00, -3.93825926e-03],\n",
              "       [-3.05727698e-03, -5.79175888e+00],\n",
              "       [-3.49145123e+00, -3.09300817e-02],\n",
              "       [-1.15576132e-01, -2.21505737e+00],\n",
              "       [-3.50570197e-01, -1.21836384e+00],\n",
              "       [-5.45442024e+00, -4.28652995e-03],\n",
              "       [-4.15385567e+00, -1.58283614e-02],\n",
              "       [-1.40917852e+00, -2.80168932e-01],\n",
              "       [-2.18170870e-03, -6.12873756e+00],\n",
              "       [-2.09393284e-03, -6.16975802e+00],\n",
              "       [-4.86528008e+00, -7.73954174e-03],\n",
              "       [-3.98693224e+00, -1.87308869e-02],\n",
              "       [-9.77002662e-04, -6.93150964e+00],\n",
              "       [-5.54167087e+00, -3.92767484e-03],\n",
              "       [-3.69701484e+00, -2.51100762e-02],\n",
              "       [-7.50635974e-01, -6.38784449e-01],\n",
              "       [-3.32768022e+00, -3.65356044e-02],\n",
              "       [-4.70088807e+00, -9.12874389e-03],\n",
              "       [-4.36224265e+00, -1.28317380e-02],\n",
              "       [-4.36357373e+00, -1.28145596e-02],\n",
              "       [-1.96785822e-02, -3.93804759e+00],\n",
              "       [-5.03434764e+00, -6.53172929e-03],\n",
              "       [-3.27706325e-01, -1.27501994e+00],\n",
              "       [-2.03349706e+00, -1.40270663e-01],\n",
              "       [-4.44522887e+00, -1.18038117e-02],\n",
              "       [-3.94483951e+00, -1.95440694e-02],\n",
              "       [-2.18227099e+00, -1.19668055e-01],\n",
              "       [-4.99485168e+00, -6.79576452e-03],\n",
              "       [-5.49938437e+00, -4.09767214e-03],\n",
              "       [-2.99458363e-02, -3.52330054e+00],\n",
              "       [-7.19025569e+00, -7.54180656e-04],\n",
              "       [-4.52901252e-02, -3.11722586e+00],\n",
              "       [-2.14112389e+00, -1.25022197e-01],\n",
              "       [-4.73672991e+00, -8.80592774e-03],\n",
              "       [-3.27329772e-01, -1.27599164e+00],\n",
              "       [-1.65053768e-01, -1.88287602e+00],\n",
              "       [-3.94439880e+00, -1.95527695e-02],\n",
              "       [-2.11302920e-04, -8.46232346e+00],\n",
              "       [-3.61648368e+00, -2.72448109e-02],\n",
              "       [-3.86252023e+00, -2.12389279e-02],\n",
              "       [-1.48601916e-03, -6.51239736e+00],\n",
              "       [-1.70793577e+00, -1.99963700e-01],\n",
              "       [-6.30684670e-02, -2.79490287e+00],\n",
              "       [-2.53054036e-01, -1.49801249e+00],\n",
              "       [-2.96340831e+00, -5.30238467e-02],\n",
              "       [-6.30020228e+00, -1.83762076e-03],\n",
              "       [-4.90786213e+00, -7.41569500e-03],\n",
              "       [-3.12341696e+00, -4.50042098e-02],\n",
              "       [-1.67769238e+00, -2.06783795e-01],\n",
              "       [-1.95824835e-02, -3.94289508e+00],\n",
              "       [-5.29857934e-03, -5.24296466e+00],\n",
              "       [-7.09662480e-02, -2.68082419e+00]])"
            ]
          },
          "metadata": {
            "tags": []
          },
          "execution_count": 42
        }
      ]
    },
    {
      "cell_type": "code",
      "metadata": {
        "id": "vv63IO9qy-BH"
      },
      "source": [
        ""
      ],
      "execution_count": 42,
      "outputs": []
    }
  ]
}